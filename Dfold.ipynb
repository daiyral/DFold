{
  "cells": [
    {
      "cell_type": "code",
      "execution_count": 63,
      "metadata": {
        "id": "w8Vh4bVIgUBh"
      },
      "outputs": [],
      "source": [
        "#!pip install git+https://github.com/evolutionaryscale/esm\n",
        "#!pip install py3Dmol\n",
        "#!pip install umap-learn"
      ]
    },
    {
      "cell_type": "code",
      "execution_count": 38,
      "metadata": {
        "colab": {
          "base_uri": "https://localhost:8080/",
          "height": 424,
          "referenced_widgets": [
            "bfe086d27bbd4b83b3dfa3837eef5fe2",
            "149f2cafb1434f57b23c917946426054",
            "5aba75b69571438092079bdd99350f9e",
            "309d1ff143a343e4b657b950952bcdc2",
            "81bb0d3fcabb40b482e631c48e06dbc5",
            "ab008e87cb9a424bbe1825c958053dba",
            "fd57d5826d244baf921050f404ca41c5",
            "e7d248a3e8e440bb8cb6d62543435781",
            "d437b8c103134f6e9dfed0a1d23d5a2b",
            "4944fd3f33834091973c30c570fd5eac",
            "fe52763e7df346efbc92f24ab2ab71b7",
            "44415e0545464dbaa2ab2b60f6c3181d",
            "44e2a86f85764847b6747e684f919713",
            "ddb803a728af4a56b9ed90d656404604",
            "2288ea3542504f24b7ddc02cb2fc51c4",
            "9bfd0fa627154648a787780634369731",
            "624d4196216d4a21af4d01f304544fea"
          ]
        },
        "id": "8HQ2RXKdfp4q",
        "outputId": "892e22f1-ce63-46db-bef5-c578e79656f1"
      },
      "outputs": [
        {
          "output_type": "display_data",
          "data": {
            "text/plain": [
              "VBox(children=(HTML(value='<center> <img\\nsrc=https://huggingface.co/front/assets/huggingface_logo-noborder.sv…"
            ],
            "application/vnd.jupyter.widget-view+json": {
              "version_major": 2,
              "version_minor": 0,
              "model_id": "bfe086d27bbd4b83b3dfa3837eef5fe2"
            }
          },
          "metadata": {}
        },
        {
          "output_type": "stream",
          "name": "stderr",
          "text": [
            "/usr/local/lib/python3.10/dist-packages/esm/pretrained.py:113: FutureWarning:\n",
            "\n",
            "You are using `torch.load` with `weights_only=False` (the current default value), which uses the default pickle module implicitly. It is possible to construct malicious pickle data which will execute arbitrary code during unpickling (See https://github.com/pytorch/pytorch/blob/main/SECURITY.md#untrusted-models for more details). In a future release, the default value for `weights_only` will be flipped to `True`. This limits the functions that could be executed during unpickling. Arbitrary objects will no longer be allowed to be loaded via this mode unless they are explicitly allowlisted by the user via `torch.serialization.add_safe_globals`. We recommend you start setting `weights_only=True` for any use case where you don't have full control of the loaded file. Please open an issue on GitHub for any issues related to this experimental feature.\n",
            "\n"
          ]
        }
      ],
      "source": [
        "import py3Dmol\n",
        "import numpy as np\n",
        "import torch\n",
        "import pandas as pd\n",
        "from tqdm import tqdm\n",
        "import pickle\n",
        "import os\n",
        "from esm.utils.structure.protein_chain import ProteinChain\n",
        "from esm.models.esm3 import ESM3\n",
        "from huggingface_hub import login\n",
        "from esm.sdk import client\n",
        "import requests\n",
        "from bs4 import BeautifulSoup\n",
        "from Bio.PDB import PDBParser, Superimposer, PDBIO, Structure\n",
        "import matplotlib.pyplot as plt\n",
        "from mpl_toolkits.mplot3d import Axes3D\n",
        "import wandb\n",
        "import tempfile\n",
        "import plotly.graph_objects as go\n",
        "from pathlib import Path\n",
        "from urllib.parse import urljoin\n",
        "import plotly.express as px\n",
        "from scipy.spatial.distance import cdist\n",
        "import scipy.stats as stats\n",
        "from esm.sdk.api import (\n",
        "    ESM3InferenceClient,\n",
        "    ESMProtein,\n",
        "    GenerationConfig,\n",
        "    SamplingConfig\n",
        ")\n",
        "import umap\n",
        "from sklearn.manifold import TSNE\n",
        "from Bio.Align import substitution_matrices\n",
        "# Will instruct you how to get an API key from huggingface hub, make one with \"Read\" permission.\n",
        "login()\n",
        "model: ESM3InferenceClient = ESM3.from_pretrained(\"esm3-open\").to(\"cuda\") # or \"cpu\"\n",
        "url = \"http://prodata.swmed.edu/ecod/af2_pdb/domain/\"\n"
      ]
    },
    {
      "cell_type": "code",
      "execution_count": 39,
      "metadata": {
        "colab": {
          "base_uri": "https://localhost:8080/",
          "height": 206
        },
        "id": "gfcuP5jafp4r",
        "outputId": "ff4f993b-ca72-45bf-d4d7-3f6d8e6f3264"
      },
      "outputs": [
        {
          "output_type": "execute_result",
          "data": {
            "text/plain": [
              "        id  strands                                                seq  \\\n",
              "0  e1af6A1       18  VDFHGYARSGIGWTGSGGEQQCFQTTGAQSKYRLGNECETYAELKL...   \n",
              "1  e1kmoA2       22  IPQDFGIEAGVEGQLSPTSSQNNPKETHNLMVGGTADNGFGTALLY...   \n",
              "2  e1p4tA1        8  EGASGFYVQADAAHAKASSSLGSAKGFSPRISAGYRINDLRFAVDY...   \n",
              "3  e1prnA1       16  EISLNGYGRFGLQYVEDRGVGLEDTIISSRLRINIVGTTETDQGVT...   \n",
              "4  e1qd5A1       12  AVRGSIIANMLQEHDNPFTLYPYDTNYLIYTQTSDLNKEAIASYDW...   \n",
              "\n",
              "   seq_len  \n",
              "0      421  \n",
              "1      523  \n",
              "2      155  \n",
              "3      289  \n",
              "4      257  "
            ],
            "text/html": [
              "\n",
              "  <div id=\"df-2e833b3a-1573-4896-aa27-1d2f690f4109\" class=\"colab-df-container\">\n",
              "    <div>\n",
              "<style scoped>\n",
              "    .dataframe tbody tr th:only-of-type {\n",
              "        vertical-align: middle;\n",
              "    }\n",
              "\n",
              "    .dataframe tbody tr th {\n",
              "        vertical-align: top;\n",
              "    }\n",
              "\n",
              "    .dataframe thead th {\n",
              "        text-align: right;\n",
              "    }\n",
              "</style>\n",
              "<table border=\"1\" class=\"dataframe\">\n",
              "  <thead>\n",
              "    <tr style=\"text-align: right;\">\n",
              "      <th></th>\n",
              "      <th>id</th>\n",
              "      <th>strands</th>\n",
              "      <th>seq</th>\n",
              "      <th>seq_len</th>\n",
              "    </tr>\n",
              "  </thead>\n",
              "  <tbody>\n",
              "    <tr>\n",
              "      <th>0</th>\n",
              "      <td>e1af6A1</td>\n",
              "      <td>18</td>\n",
              "      <td>VDFHGYARSGIGWTGSGGEQQCFQTTGAQSKYRLGNECETYAELKL...</td>\n",
              "      <td>421</td>\n",
              "    </tr>\n",
              "    <tr>\n",
              "      <th>1</th>\n",
              "      <td>e1kmoA2</td>\n",
              "      <td>22</td>\n",
              "      <td>IPQDFGIEAGVEGQLSPTSSQNNPKETHNLMVGGTADNGFGTALLY...</td>\n",
              "      <td>523</td>\n",
              "    </tr>\n",
              "    <tr>\n",
              "      <th>2</th>\n",
              "      <td>e1p4tA1</td>\n",
              "      <td>8</td>\n",
              "      <td>EGASGFYVQADAAHAKASSSLGSAKGFSPRISAGYRINDLRFAVDY...</td>\n",
              "      <td>155</td>\n",
              "    </tr>\n",
              "    <tr>\n",
              "      <th>3</th>\n",
              "      <td>e1prnA1</td>\n",
              "      <td>16</td>\n",
              "      <td>EISLNGYGRFGLQYVEDRGVGLEDTIISSRLRINIVGTTETDQGVT...</td>\n",
              "      <td>289</td>\n",
              "    </tr>\n",
              "    <tr>\n",
              "      <th>4</th>\n",
              "      <td>e1qd5A1</td>\n",
              "      <td>12</td>\n",
              "      <td>AVRGSIIANMLQEHDNPFTLYPYDTNYLIYTQTSDLNKEAIASYDW...</td>\n",
              "      <td>257</td>\n",
              "    </tr>\n",
              "  </tbody>\n",
              "</table>\n",
              "</div>\n",
              "    <div class=\"colab-df-buttons\">\n",
              "\n",
              "  <div class=\"colab-df-container\">\n",
              "    <button class=\"colab-df-convert\" onclick=\"convertToInteractive('df-2e833b3a-1573-4896-aa27-1d2f690f4109')\"\n",
              "            title=\"Convert this dataframe to an interactive table.\"\n",
              "            style=\"display:none;\">\n",
              "\n",
              "  <svg xmlns=\"http://www.w3.org/2000/svg\" height=\"24px\" viewBox=\"0 -960 960 960\">\n",
              "    <path d=\"M120-120v-720h720v720H120Zm60-500h600v-160H180v160Zm220 220h160v-160H400v160Zm0 220h160v-160H400v160ZM180-400h160v-160H180v160Zm440 0h160v-160H620v160ZM180-180h160v-160H180v160Zm440 0h160v-160H620v160Z\"/>\n",
              "  </svg>\n",
              "    </button>\n",
              "\n",
              "  <style>\n",
              "    .colab-df-container {\n",
              "      display:flex;\n",
              "      gap: 12px;\n",
              "    }\n",
              "\n",
              "    .colab-df-convert {\n",
              "      background-color: #E8F0FE;\n",
              "      border: none;\n",
              "      border-radius: 50%;\n",
              "      cursor: pointer;\n",
              "      display: none;\n",
              "      fill: #1967D2;\n",
              "      height: 32px;\n",
              "      padding: 0 0 0 0;\n",
              "      width: 32px;\n",
              "    }\n",
              "\n",
              "    .colab-df-convert:hover {\n",
              "      background-color: #E2EBFA;\n",
              "      box-shadow: 0px 1px 2px rgba(60, 64, 67, 0.3), 0px 1px 3px 1px rgba(60, 64, 67, 0.15);\n",
              "      fill: #174EA6;\n",
              "    }\n",
              "\n",
              "    .colab-df-buttons div {\n",
              "      margin-bottom: 4px;\n",
              "    }\n",
              "\n",
              "    [theme=dark] .colab-df-convert {\n",
              "      background-color: #3B4455;\n",
              "      fill: #D2E3FC;\n",
              "    }\n",
              "\n",
              "    [theme=dark] .colab-df-convert:hover {\n",
              "      background-color: #434B5C;\n",
              "      box-shadow: 0px 1px 3px 1px rgba(0, 0, 0, 0.15);\n",
              "      filter: drop-shadow(0px 1px 2px rgba(0, 0, 0, 0.3));\n",
              "      fill: #FFFFFF;\n",
              "    }\n",
              "  </style>\n",
              "\n",
              "    <script>\n",
              "      const buttonEl =\n",
              "        document.querySelector('#df-2e833b3a-1573-4896-aa27-1d2f690f4109 button.colab-df-convert');\n",
              "      buttonEl.style.display =\n",
              "        google.colab.kernel.accessAllowed ? 'block' : 'none';\n",
              "\n",
              "      async function convertToInteractive(key) {\n",
              "        const element = document.querySelector('#df-2e833b3a-1573-4896-aa27-1d2f690f4109');\n",
              "        const dataTable =\n",
              "          await google.colab.kernel.invokeFunction('convertToInteractive',\n",
              "                                                    [key], {});\n",
              "        if (!dataTable) return;\n",
              "\n",
              "        const docLinkHtml = 'Like what you see? Visit the ' +\n",
              "          '<a target=\"_blank\" href=https://colab.research.google.com/notebooks/data_table.ipynb>data table notebook</a>'\n",
              "          + ' to learn more about interactive tables.';\n",
              "        element.innerHTML = '';\n",
              "        dataTable['output_type'] = 'display_data';\n",
              "        await google.colab.output.renderOutput(dataTable, element);\n",
              "        const docLink = document.createElement('div');\n",
              "        docLink.innerHTML = docLinkHtml;\n",
              "        element.appendChild(docLink);\n",
              "      }\n",
              "    </script>\n",
              "  </div>\n",
              "\n",
              "\n",
              "<div id=\"df-52fdd2ae-55b6-48fc-9f1b-23732c84cf37\">\n",
              "  <button class=\"colab-df-quickchart\" onclick=\"quickchart('df-52fdd2ae-55b6-48fc-9f1b-23732c84cf37')\"\n",
              "            title=\"Suggest charts\"\n",
              "            style=\"display:none;\">\n",
              "\n",
              "<svg xmlns=\"http://www.w3.org/2000/svg\" height=\"24px\"viewBox=\"0 0 24 24\"\n",
              "     width=\"24px\">\n",
              "    <g>\n",
              "        <path d=\"M19 3H5c-1.1 0-2 .9-2 2v14c0 1.1.9 2 2 2h14c1.1 0 2-.9 2-2V5c0-1.1-.9-2-2-2zM9 17H7v-7h2v7zm4 0h-2V7h2v10zm4 0h-2v-4h2v4z\"/>\n",
              "    </g>\n",
              "</svg>\n",
              "  </button>\n",
              "\n",
              "<style>\n",
              "  .colab-df-quickchart {\n",
              "      --bg-color: #E8F0FE;\n",
              "      --fill-color: #1967D2;\n",
              "      --hover-bg-color: #E2EBFA;\n",
              "      --hover-fill-color: #174EA6;\n",
              "      --disabled-fill-color: #AAA;\n",
              "      --disabled-bg-color: #DDD;\n",
              "  }\n",
              "\n",
              "  [theme=dark] .colab-df-quickchart {\n",
              "      --bg-color: #3B4455;\n",
              "      --fill-color: #D2E3FC;\n",
              "      --hover-bg-color: #434B5C;\n",
              "      --hover-fill-color: #FFFFFF;\n",
              "      --disabled-bg-color: #3B4455;\n",
              "      --disabled-fill-color: #666;\n",
              "  }\n",
              "\n",
              "  .colab-df-quickchart {\n",
              "    background-color: var(--bg-color);\n",
              "    border: none;\n",
              "    border-radius: 50%;\n",
              "    cursor: pointer;\n",
              "    display: none;\n",
              "    fill: var(--fill-color);\n",
              "    height: 32px;\n",
              "    padding: 0;\n",
              "    width: 32px;\n",
              "  }\n",
              "\n",
              "  .colab-df-quickchart:hover {\n",
              "    background-color: var(--hover-bg-color);\n",
              "    box-shadow: 0 1px 2px rgba(60, 64, 67, 0.3), 0 1px 3px 1px rgba(60, 64, 67, 0.15);\n",
              "    fill: var(--button-hover-fill-color);\n",
              "  }\n",
              "\n",
              "  .colab-df-quickchart-complete:disabled,\n",
              "  .colab-df-quickchart-complete:disabled:hover {\n",
              "    background-color: var(--disabled-bg-color);\n",
              "    fill: var(--disabled-fill-color);\n",
              "    box-shadow: none;\n",
              "  }\n",
              "\n",
              "  .colab-df-spinner {\n",
              "    border: 2px solid var(--fill-color);\n",
              "    border-color: transparent;\n",
              "    border-bottom-color: var(--fill-color);\n",
              "    animation:\n",
              "      spin 1s steps(1) infinite;\n",
              "  }\n",
              "\n",
              "  @keyframes spin {\n",
              "    0% {\n",
              "      border-color: transparent;\n",
              "      border-bottom-color: var(--fill-color);\n",
              "      border-left-color: var(--fill-color);\n",
              "    }\n",
              "    20% {\n",
              "      border-color: transparent;\n",
              "      border-left-color: var(--fill-color);\n",
              "      border-top-color: var(--fill-color);\n",
              "    }\n",
              "    30% {\n",
              "      border-color: transparent;\n",
              "      border-left-color: var(--fill-color);\n",
              "      border-top-color: var(--fill-color);\n",
              "      border-right-color: var(--fill-color);\n",
              "    }\n",
              "    40% {\n",
              "      border-color: transparent;\n",
              "      border-right-color: var(--fill-color);\n",
              "      border-top-color: var(--fill-color);\n",
              "    }\n",
              "    60% {\n",
              "      border-color: transparent;\n",
              "      border-right-color: var(--fill-color);\n",
              "    }\n",
              "    80% {\n",
              "      border-color: transparent;\n",
              "      border-right-color: var(--fill-color);\n",
              "      border-bottom-color: var(--fill-color);\n",
              "    }\n",
              "    90% {\n",
              "      border-color: transparent;\n",
              "      border-bottom-color: var(--fill-color);\n",
              "    }\n",
              "  }\n",
              "</style>\n",
              "\n",
              "  <script>\n",
              "    async function quickchart(key) {\n",
              "      const quickchartButtonEl =\n",
              "        document.querySelector('#' + key + ' button');\n",
              "      quickchartButtonEl.disabled = true;  // To prevent multiple clicks.\n",
              "      quickchartButtonEl.classList.add('colab-df-spinner');\n",
              "      try {\n",
              "        const charts = await google.colab.kernel.invokeFunction(\n",
              "            'suggestCharts', [key], {});\n",
              "      } catch (error) {\n",
              "        console.error('Error during call to suggestCharts:', error);\n",
              "      }\n",
              "      quickchartButtonEl.classList.remove('colab-df-spinner');\n",
              "      quickchartButtonEl.classList.add('colab-df-quickchart-complete');\n",
              "    }\n",
              "    (() => {\n",
              "      let quickchartButtonEl =\n",
              "        document.querySelector('#df-52fdd2ae-55b6-48fc-9f1b-23732c84cf37 button');\n",
              "      quickchartButtonEl.style.display =\n",
              "        google.colab.kernel.accessAllowed ? 'block' : 'none';\n",
              "    })();\n",
              "  </script>\n",
              "</div>\n",
              "\n",
              "    </div>\n",
              "  </div>\n"
            ],
            "application/vnd.google.colaboratory.intrinsic+json": {
              "type": "dataframe",
              "variable_name": "df",
              "summary": "{\n  \"name\": \"df\",\n  \"rows\": 102,\n  \"fields\": [\n    {\n      \"column\": \"id\",\n      \"properties\": {\n        \"dtype\": \"string\",\n        \"num_unique_values\": 102,\n        \"samples\": [\n          \"e3fidA1\",\n          \"e4rl8A1\",\n          \"e4n75A1\"\n        ],\n        \"semantic_type\": \"\",\n        \"description\": \"\"\n      }\n    },\n    {\n      \"column\": \"strands\",\n      \"properties\": {\n        \"dtype\": \"number\",\n        \"std\": 5,\n        \"min\": 8,\n        \"max\": 26,\n        \"num_unique_values\": 10,\n        \"samples\": [\n          26,\n          22,\n          14\n        ],\n        \"semantic_type\": \"\",\n        \"description\": \"\"\n      }\n    },\n    {\n      \"column\": \"seq\",\n      \"properties\": {\n        \"dtype\": \"string\",\n        \"num_unique_values\": 102,\n        \"samples\": [\n          \"SSLAISVANDDAGIFQPSLNALYGHPAADRGDYTAGLFLGYSHDLTDASQLSFHIAQDIYSPSGANKRKPEAVKGDRAFSAFLHTGLEWNSLATNWLRYRLGTDIGVIGPDAGGQEVQNRAHRIIGAEKYPAWQDQIENRYGYTAKGMVSLTPAIDILGVNVGFYPEVSAVGGNLFQYLGYGATVALGNDKTFNSDNGFGLLSRRGLIHTQKEGLIYKVFAGVERREVDKNYTLQGKTLQTKMETVDINKTVDEYRVGATIGYSPVAFSLSLNKVTSEFRTGDDYSYINGDITFFF\",\n          \"EVDPGDYEALPVGATIGVVYYQHSTTDSAYANGHKVSSDFKLTSNVGILRLLHVYQLTDRLTLEPQFLLPFGRVSSSGDASALGDTSGVGDLTLTAPLKYRLNEANDILGATVYLTAPTGNYNRDDALNLGENRWKVDLQAAYVKHLGEKWAVDLVGDAIWYSDNDDFGSSSARREQDVSYGAQLMGRYIVDPGTSLAIGLGHTWGGENQIDGTAQDDRAETTNFRVTANKFFTAKDQLQMQLGRDLAVENGPKENFRLNLRYVRVF\",\n          \"MNFGIGYGTESGVSFQAGVQQDNWLGTGYAVGINGTKNDYQTYAELSVTNPYFTVDGVSLGGRLFYNDFQADDADLSDYTNKSYGTDVTLGFPINEYNSLRAGLGYVHNSLSNMQPQVAMWRYLYSMGEHPSTSDQDNSFKTDDFTFNYGWTYNKLDRGYFPTDGSRVNLTGKVTIPGSDNEYYKVTLDTATYVPIDDDHKWVVLGRTRWGYGDGLGGKEMPFYENFYAGGSSTVRGFQSNTIGPKAVYFPHQASNYDPDYDYECATQDGAKDLCKSDDAVGGNAMAVASLEFITPTPFISDKYANSVRTSFFWDMGTVWDTNWDSSQYSGYPDYSDPSNIRMSAGIALQWMSPLGPLVFSYAQPFKKYDGDKAEQFQFNIGKTW\"\n        ],\n        \"semantic_type\": \"\",\n        \"description\": \"\"\n      }\n    },\n    {\n      \"column\": \"seq_len\",\n      \"properties\": {\n        \"dtype\": \"number\",\n        \"std\": 152,\n        \"min\": 137,\n        \"max\": 815,\n        \"num_unique_values\": 95,\n        \"samples\": [\n          402,\n          456,\n          815\n        ],\n        \"semantic_type\": \"\",\n        \"description\": \"\"\n      }\n    }\n  ]\n}"
            }
          },
          "metadata": {},
          "execution_count": 39
        }
      ],
      "source": [
        "df = pd.read_csv('OMBB_data.csv')\n",
        "df.head()"
      ]
    },
    {
      "cell_type": "code",
      "execution_count": 40,
      "metadata": {
        "id": "B0JDqqxbfp4r"
      },
      "outputs": [],
      "source": [
        "def download_pdb_file(id, base_url, output_filename):\n",
        "    try:\n",
        "        # Request the page\n",
        "        response = requests.get(base_url + id)\n",
        "        response.raise_for_status()  # Raise HTTPError for bad responses\n",
        "        soup = BeautifulSoup(response.text, 'html.parser')\n",
        "\n",
        "        # Find the \"Coordinates\" link under \"Download files\"\n",
        "        link = soup.find('a', string=\"Coordinates\")\n",
        "        if link:\n",
        "            # Handle relative URL by combining with the base URL\n",
        "            href = urljoin(base_url, link['href'])\n",
        "\n",
        "            # Download the file\n",
        "            coord_response = requests.get(href)\n",
        "            coord_response.raise_for_status()  # Raise HTTPError for bad responses\n",
        "            with open(output_filename, 'wb') as file:\n",
        "                file.write(coord_response.content)\n",
        "            print(f'Coordinates file downloaded successfully as {output_filename}')\n",
        "        else:\n",
        "            print(f'No Coordinates link found for {id}')\n",
        "    except Exception as e:\n",
        "        print(f'Error: {e}')\n",
        "\n"
      ]
    },
    {
      "cell_type": "code",
      "execution_count": 41,
      "metadata": {
        "id": "6BLYXscgc8pO"
      },
      "outputs": [],
      "source": [
        "def getPdbId(id, url):\n",
        "    try:\n",
        "        response = requests.get(url + id)\n",
        "        soup = BeautifulSoup(response.text, 'html.parser')\n",
        "        pdb_id = None\n",
        "        link = soup.find('a', title=\"Link to PDB\")\n",
        "        if link:\n",
        "            href = link['href']\n",
        "            pdb_id = href.split(\"structureId=\")[-1]\n",
        "        if pdb_id is None:\n",
        "            print(f'No PDB ID found for {id}')\n",
        "        return pdb_id\n",
        "    except Exception as e:\n",
        "        print(f'Error: {e}')\n",
        "        return None"
      ]
    },
    {
      "cell_type": "code",
      "execution_count": 42,
      "metadata": {
        "id": "bTO_wIL6DtVO"
      },
      "outputs": [],
      "source": [
        "def get_chain_and_range(id, url):\n",
        "  try:\n",
        "    # Request the page\n",
        "    response = requests.get(url + id)\n",
        "    response.raise_for_status()  # Raise HTTPError for bad responses\n",
        "\n",
        "    # Parse the HTML\n",
        "    soup = BeautifulSoup(response.text, \"html.parser\")\n",
        "\n",
        "    # Find the <td> tag next to the <th> with the text \"Range:\"\n",
        "    range_td = soup.find(\"th\", string=\"Range:\").find_next_sibling(\"td\")\n",
        "    if range_td:\n",
        "      # Extract the range text\n",
        "      range_text = range_td.text.strip()\n",
        "\n",
        "      # Parse the ranges into a structured format\n",
        "      ranges = []\n",
        "      for segment in range_text.split(\",\"):\n",
        "          chain, residues = segment.split(\":\")\n",
        "          start, end = map(int, residues.split(\"-\"))\n",
        "          ranges.append({\"chain\": chain, \"start\": start, \"end\": end})\n",
        "      return ranges\n",
        "  except Exception as e:\n",
        "    print(f'Error: {e}')\n",
        "    return None"
      ]
    },
    {
      "cell_type": "code",
      "execution_count": 43,
      "metadata": {
        "id": "Y2U_IFnNfp4s"
      },
      "outputs": [],
      "source": [
        "\n",
        "# error in files e2wjrA1, e3bryA1, e3qq2A1, e3sy7A2, e3szvA1, e4afkA1, e4c00A4, e4cu4A2, e4fqeA1, e4frxA1, e4fspA1, e4q35A2, e4rdrA2, e4rjwA1, e5dl5A1, e5fokA1, e5fp1A1, e5fq8B2, e5fr8A2, e5fvnA1,\n",
        "#e5ldvA1, e5m9bA1, e5mdoA1, e5o65A1, e5t3rD1, e6e4vA1, e6ehbA1, e6ehdA1, e6fokA1, e6gieA1, e6i96A1, e6r2qB1, e6sljA1, e6ucuA1, e6v81A2\n",
        "\n",
        "def load_protein_chains(cache_path):\n",
        "    if os.path.exists(cache_path):\n",
        "        with open(cache_path, 'rb') as file:\n",
        "            protein_chains = pickle.load(file)\n",
        "        print(\"Loaded list\")\n",
        "    else:\n",
        "        protein_chains = []\n",
        "        for idx, row in tqdm(df.iterrows(), total=len(df), desc='Fetching ProteinChains'):\n",
        "            id = row['id']\n",
        "            path = f\"pdb_files/{id}.pdb\"\n",
        "            if not os.path.exists(path):\n",
        "                download_pdb_file(id, url, path)\n",
        "            try:\n",
        "                out_membraine_chain = ProteinChain.from_pdb(path)\n",
        "            except ValueError as e:\n",
        "                print(f\"ValueError while processing {id} at {path}: {e}\")\n",
        "                # Attempt to fetch the PDB from an alternative source if ValueError occurs\n",
        "                pdb_id = getPdbId(id, url)\n",
        "\n",
        "                # Get chain and ranges from ECOD\n",
        "                range_data = get_chain_and_range(id, url)\n",
        "\n",
        "                # Load pdb from RCSB and filter it using chain and range data\n",
        "                filtered_residues = []\n",
        "                residues = []\n",
        "                for range in range_data:\n",
        "                  out_membraine_chain = ProteinChain.from_rcsb(pdb_id, range['chain'])\n",
        "                  start, end = range['start'], range['end']\n",
        "                  for residue in out_membraine_chain.residue_index:\n",
        "                      if start <= residue <= end:\n",
        "                          filtered_residues.append(residue)\n",
        "                      residues.append(residue)\n",
        "                  filtered_residues_idx = [residues.index(value) for value in filtered_residues if value in residues]\n",
        "\n",
        "                out_membraine_chain = out_membraine_chain[filtered_residues_idx]\n",
        "\n",
        "            except Exception as e:\n",
        "                print(f\"MAX ERROR!!!!. Error while processing {id} at {path}: {e}\")\n",
        "            protein_chains.append(out_membraine_chain)\n",
        "\n",
        "        with open(cache_path, 'wb') as file:\n",
        "            pickle.dump(protein_chains, file)\n",
        "        print(\"List saved successfully!\")\n",
        "\n",
        "    return protein_chains"
      ]
    },
    {
      "cell_type": "code",
      "execution_count": 44,
      "metadata": {
        "id": "mKf-PbRBc8pO"
      },
      "outputs": [],
      "source": [
        "def log_py3Dmol_to_wandb(view, pdb_id):\n",
        "    temp_html_path = Path(\"temp_protein_view.html\")\n",
        "\n",
        "    # Write HTML content using a file handle\n",
        "    with temp_html_path.open('w', encoding='utf-8') as f:\n",
        "        view.write_html(f, fullpage=True)\n",
        "\n",
        "    # Read the HTML content\n",
        "    with temp_html_path.open('r', encoding='utf-8') as f:\n",
        "        html_content = f.read()\n",
        "\n",
        "    # Log to W&B as HTML\n",
        "    wandb.log({\n",
        "        pdb_id: wandb.Html(html_content)\n",
        "    })\n",
        "\n",
        "    # Clean up temporary file\n",
        "    temp_html_path.unlink()"
      ]
    },
    {
      "cell_type": "code",
      "execution_count": 45,
      "metadata": {
        "id": "F5JihyUpfp4s"
      },
      "outputs": [],
      "source": [
        "def view_protein_chain(protein_chain,id):\n",
        "  view = py3Dmol.view(width=500, height=500)\n",
        "\n",
        "  # py3Dmol requires the atomic coordinates to be in PDB format, so we convert the `ProteinChain` object to a PDB string\n",
        "  pdb_str = protein_chain.to_pdb_string()\n",
        "  # Load the PDB string into the `py3Dmol` view object\n",
        "  view.addModel(pdb_str, \"pdb\")\n",
        "  # Set the style of the protein chain\n",
        "  view.setStyle({\"cartoon\": {\"color\": \"spectrum\"}})\n",
        "  # Zoom in on the protein chain\n",
        "  view.zoomTo()\n",
        "  # Display the protein chain\n",
        "  #view.show()\n",
        "  log_py3Dmol_to_wandb(view, id)\n"
      ]
    },
    {
      "cell_type": "code",
      "execution_count": 46,
      "metadata": {
        "id": "dR5bEv_7fp4s"
      },
      "outputs": [],
      "source": [
        "def create_masked_protein_chain(protein_chain, mask_percent=0.1):\n",
        "  mask_pos = int(len(protein_chain.sequence) * (1-mask_percent))\n",
        "  mask_amount = len(protein_chain.sequence) - mask_pos\n",
        "  # Create a mask for the sequence\n",
        "  #print(f\"Masking {mask_percent * 100}% ({mask_amount}) chars at the end of the sequence.\")\n",
        "  sequence_prompt = protein_chain.sequence[:mask_pos] + ''.join(['_'] * mask_amount)\n",
        "  #print(\"Sequence prompt:\", sequence_prompt)\n",
        "  return sequence_prompt, mask_pos"
      ]
    },
    {
      "cell_type": "code",
      "execution_count": 47,
      "metadata": {
        "id": "bwXgs0aVfp4s"
      },
      "outputs": [],
      "source": [
        "def view_masked_protein_chain(inds, pdb_str, id):\n",
        "  view = py3Dmol.view(width=500, height=500)\n",
        "  view.addModel(pdb_str, format='pdb')\n",
        "  view.setStyle({\"cartoon\": {\"color\": \"lightgrey\"}})\n",
        "  view.addStyle({\"resi\": (inds + 1).tolist()}, {\"cartoon\": {\"color\": \"cyan\"}})\n",
        "  view.zoomTo()\n",
        "  #view.show()\n",
        "  log_py3Dmol_to_wandb(view, id)"
      ]
    },
    {
      "cell_type": "code",
      "source": [
        "def calc_seq_similarity(sequence1, sequence2):\n",
        "  blosum62 = substitution_matrices.load(\"BLOSUM62\")\n",
        "\n",
        "  if len(sequence1) != len(sequence2):\n",
        "        raise ValueError(\"Sequences must have the same length!\")\n",
        "\n",
        "  blosum62 = substitution_matrices.load(\"BLOSUM62\")\n",
        "\n",
        "  # Calculate similarity\n",
        "  similarity_score = sum(blosum62[(res_seq1, res_seq2)] for res_seq1, res_seq2 in zip(sequence1, sequence2))\n",
        "\n",
        "  # Normalize score\n",
        "  normalized_score = similarity_score / len(sequence2) if sequence2 else 0\n",
        "\n",
        "  return similarity_score, normalized_score"
      ],
      "metadata": {
        "id": "puXQkkEz2pxf"
      },
      "execution_count": 48,
      "outputs": []
    },
    {
      "cell_type": "code",
      "source": [
        "def calc_seq_identity(sequence1, sequence2):\n",
        "  if len(sequence1) != len(sequence2):\n",
        "    raise ValueError(\"Sequences must have the same length\")\n",
        "  else:\n",
        "    return sum(1 for a, b in zip(sequence1, sequence2) if a == b) / len(sequence1)"
      ],
      "metadata": {
        "id": "ieCaCvQz2uuw"
      },
      "execution_count": 49,
      "outputs": []
    },
    {
      "cell_type": "code",
      "execution_count": 50,
      "metadata": {
        "id": "GRZAS_Asfp4s"
      },
      "outputs": [],
      "source": [
        "def predict(sequence_prompt, prior_sequence, sequence_generation_config, structure_prediction_config):\n",
        "\n",
        "  protein = ESMProtein(sequence=sequence_prompt)\n",
        "  sequence_generation = model.generate(protein, sequence_generation_config)\n",
        "  #print(\"Sequence Prompt:\\n\\t\", protein.sequence)\n",
        "  #print(\"Generated sequence:\\n\\t\", sequence_generation.sequence)\n",
        "\n",
        "  # gets embeddings for the sequence generation\n",
        "  protein_tensor_gen = model.encode(sequence_generation)\n",
        "  output_gen = model.forward_and_sample(\n",
        "      protein_tensor_gen, SamplingConfig(return_per_residue_embeddings=True)\n",
        "  )\n",
        "  embeddings_sequence_generation = output_gen.per_residue_embedding\n",
        "\n",
        "  # generate structure\n",
        "  structure_prediction_prompt = ESMProtein(sequence=sequence_generation.sequence)\n",
        "  structure_prediction = model.generate(\n",
        "      structure_prediction_prompt, structure_prediction_config\n",
        "  )\n",
        "  # get structure embeddings\n",
        "  protein_tensor_struct = model.encode(structure_prediction)\n",
        "  output_struct = model.forward_and_sample(\n",
        "      protein_tensor_struct, SamplingConfig(return_per_residue_embeddings=True)\n",
        "  )\n",
        "  embeddings_structure_prediction = output_struct.per_residue_embedding\n",
        "\n",
        "\n",
        "  # generate structure for PRIOR\n",
        "  structure_prior = ESMProtein(sequence=prior_sequence)\n",
        "  # get structure embeddings for PRIOR\n",
        "  protein_tensor_struct_prior = model.encode(structure_prior)\n",
        "  output_prior = model.forward_and_sample(\n",
        "      protein_tensor_struct_prior, SamplingConfig(return_per_residue_embeddings=True)\n",
        "  )\n",
        "  embeddings_structure_prior = output_prior.per_residue_embedding\n",
        "\n",
        "  #get the average of all embeddings\n",
        "  embeddings_sequence_generation = torch.mean(embeddings_sequence_generation, dim=0)\n",
        "  embeddings_structure_prediction = torch.mean(embeddings_structure_prediction, dim=0)\n",
        "  embeddings_structure_prior = torch.mean(embeddings_structure_prior, dim=0)\n",
        "\n",
        "  del structure_prediction_prompt\n",
        "  torch.cuda.empty_cache()\n",
        "  return structure_prediction, embeddings_sequence_generation, embeddings_structure_prediction,embeddings_structure_prior"
      ]
    },
    {
      "cell_type": "code",
      "execution_count": 51,
      "metadata": {
        "id": "qHTwyPd7Q2-b"
      },
      "outputs": [],
      "source": [
        "def view_aligned_structures(pdb1, pdb2, gt_inds, pred_inds, id):\n",
        "  # Display the aligned structures using py3Dmol\n",
        "  view = py3Dmol.view(width=1000, height=500)\n",
        "  view.addModel(pdb1, \"pdb\")\n",
        "  view.setStyle({'model': 0}, {\"cartoon\": {\"color\": \"lightgrey\"}})\n",
        "  view.addStyle({\"resi\": (gt_inds + 1).tolist()}, {\"cartoon\": {\"color\": \"cyan\"}})\n",
        "  view.addModel(pdb2, \"pdb\")\n",
        "  view.setStyle({'model': 1}, {\"cartoon\": {\"color\": \"lightgreen\"}})\n",
        "  view.addStyle({\"resi\": (pred_inds + 1).tolist()}, {\"cartoon\": {\"color\": \"cyan\"}})\n",
        "  view.zoomTo()\n",
        "  #view.show()\n",
        "  log_py3Dmol_to_wandb(view, id)"
      ]
    },
    {
      "cell_type": "code",
      "execution_count": 52,
      "metadata": {
        "id": "bAswisIYc8pQ"
      },
      "outputs": [],
      "source": [
        "def view_side_by_side_structures(pdb1, pdb2, gt_inds, pred_inds, id):\n",
        "    # Display the side-by-side structures using py3Dmol\n",
        "    view = py3Dmol.view(width=1000, height=500, viewergrid=(1, 2))\n",
        "    view.addModel(pdb1, \"pdb\", viewer=(0, 0))\n",
        "    view.setStyle({\"cartoon\": {\"color\": \"lightgrey\"}}, viewer=(0, 0))\n",
        "    view.addStyle({\"resi\": (gt_inds + 1).tolist()}, {\"cartoon\": {\"color\": \"cyan\"}}, viewer=(0, 0))\n",
        "    view.addModel(pdb2, \"pdb\", viewer=(0, 1))\n",
        "    view.setStyle({\"cartoon\": {\"color\": \"lightgreen\"}}, viewer=(0, 1))\n",
        "    view.addStyle({\"resi\": (pred_inds + 1).tolist()}, {\"cartoon\": {\"color\": \"cyan\"}}, viewer=(0, 1))\n",
        "    view.zoomTo()\n",
        "    #view.show()\n",
        "    log_py3Dmol_to_wandb(view, id)\n"
      ]
    },
    {
      "cell_type": "code",
      "execution_count": 53,
      "metadata": {
        "id": "fEZVyKEYc8pQ"
      },
      "outputs": [],
      "source": [
        "def getGenerationConfigs(sequence_prompt):\n",
        "    sequence_generation_config = GenerationConfig(\n",
        "        track=\"sequence\",\n",
        "        num_steps=sequence_prompt.count(\"_\")\n",
        "        // 4,\n",
        "        temperature=0.5,\n",
        "        top_p = 1,\n",
        "        schedule='cosine'\n",
        "    )\n",
        "    structure_prediction_config = GenerationConfig(\n",
        "        track=\"structure\",\n",
        "        num_steps=len(sequence_prompt) // 10,\n",
        "        temperature=0.7,\n",
        "        top_p = 1,\n",
        "        schedule='cosine'\n",
        "    )\n",
        "    return sequence_generation_config, structure_prediction_config"
      ]
    },
    {
      "cell_type": "code",
      "execution_count": 54,
      "metadata": {
        "id": "ph9SJkh70HHr"
      },
      "outputs": [],
      "source": [
        "def is_closed_protein(protein_chain, threshold=8):\n",
        "    \"\"\"\n",
        "    Calculate the Euclidean distance between the first and last residue's CA atoms return if its closed\n",
        "    \"\"\"\n",
        "\n",
        "    # Get coordinates of first and last residue CA atoms\n",
        "    first_residue = protein_chain.atom37_positions[0,1,:]  # first CA ATOMS\n",
        "    last_residue = protein_chain.atom37_positions[-1,1,:] # last CA ATOM\n",
        "\n",
        "    # Euclidean distance\n",
        "    distance = np.linalg.norm(first_residue - last_residue)\n",
        "\n",
        "    is_closed = distance < threshold\n",
        "\n",
        "    if is_closed:\n",
        "        return 'Closed'\n",
        "    return 'Open'"
      ]
    },
    {
      "cell_type": "code",
      "execution_count": 55,
      "metadata": {
        "id": "SXVvhiv00HHs"
      },
      "outputs": [],
      "source": [
        "def find_interesting_cases(cosine_distances, rmsd_results, labels, gt_barrel,\n",
        "                           pred_barrel, seq_identities, seq_similarities,\n",
        "                           norm_seq_similarities, cosine_threshold=0.1, rmsd_threshold=8):\n",
        "    interesting_cases = []\n",
        "    for i in range(len(cosine_distances)):\n",
        "        for j in range(len(cosine_distances[i])):\n",
        "            if cosine_distances[i][j] < cosine_threshold and rmsd_results[j] > rmsd_threshold:\n",
        "                interesting_cases.append([\n",
        "                    labels[j],\n",
        "                    cosine_distances[i][j],\n",
        "                    rmsd_results[j],\n",
        "                    gt_barrel[j],\n",
        "                    pred_barrel[j],\n",
        "                    seq_identities[j],\n",
        "                    seq_similarities[j],\n",
        "                    norm_seq_similarities[j]\n",
        "                ])\n",
        "    # Sort by the ratio of RMSD to cosine distance\n",
        "    interesting_cases.sort(key=lambda x: x[2] / x[1], reverse=True)\n",
        "    wandb.log({\n",
        "            \"interesting_cases\": wandb.Table(\n",
        "                data=interesting_cases,\n",
        "                columns=[\"Protein ID\", \"Cosine Distance\", \"RMSD\", \"gt closed/open\",\n",
        "                         \"pred closed/open\", \"Sequence Identity\", \"Sequence Similarity\",\n",
        "                         \"Norm. Sequence Similarity\"]\n",
        "            )\n",
        "    })"
      ]
    },
    {
      "cell_type": "code",
      "execution_count": 56,
      "metadata": {
        "id": "QU4ycqJ30HHs"
      },
      "outputs": [],
      "source": [
        "def analyze_barrel_predictions(labels,open_or_closed_pred, rmsd_results, open_or_closed_gt, rmsd_threshold=8):\n",
        "    mismatched_data = []\n",
        "\n",
        "    for label,pred, gt, rmsd in zip(labels,open_or_closed_pred, open_or_closed_gt, rmsd_results):\n",
        "        if pred != gt and rmsd > rmsd_threshold:\n",
        "            mismatched_data.append([label,pred, gt, rmsd])\n",
        "\n",
        "    wandb.log({\n",
        "        \"high_rmsd_mismatches\": wandb.Table(\n",
        "            data=mismatched_data,\n",
        "            columns=[\"ID\",\"Predicted Type\", \"Ground Truth\", \"RMSD\"]\n",
        "        )\n",
        "    })"
      ]
    },
    {
      "cell_type": "code",
      "execution_count": 61,
      "metadata": {
        "id": "Ng-VSI7Xc8pQ"
      },
      "outputs": [],
      "source": [
        "def log_summary_statistics(rmsd_results, cosine_distance, correlations):\n",
        "    mean = np.mean(rmsd_results)\n",
        "    std = np.std(rmsd_results)\n",
        "    min_val = np.min(rmsd_results)\n",
        "    max_val = np.max(rmsd_results)\n",
        "    median = np.median(rmsd_results)\n",
        "    min_consine = np.min(cosine_distance)\n",
        "    max_consine = np.max(cosine_distance)\n",
        "    mean_consine = np.mean(cosine_distance)\n",
        "    median_consine = np.median(cosine_distance)\n",
        "\n",
        "\n",
        "    wandb.run.summary.update({\n",
        "        \"mean_rmsd\": mean,\n",
        "        \"std_rmsd\": std,\n",
        "        \"min_rmsd\": min_val,\n",
        "        \"max_rmsd\": max_val,\n",
        "        \"median_rmsd\": median,\n",
        "        \"mean_cosine_distance\": mean_consine,\n",
        "        \"min_cosine_distance\": min_consine,\n",
        "        \"max_cosine_distance\": max_consine,\n",
        "        \"median_cosine_distance\": median_consine,\n",
        "        \"pearson_correlation\": correlations[\"Pearson Correlation\"],\n",
        "        \"spearman_correlation\": correlations[\"Spearman Correlation\"],\n",
        "    })\n",
        "\n",
        "def log_histogram(rmsd_results):\n",
        "    fig = go.Figure(data=[go.Histogram(x=rmsd_results, nbinsx=30)])\n",
        "    with tempfile.NamedTemporaryFile(suffix='.html', delete=False) as tmp_file:\n",
        "        html_path = tmp_file.name\n",
        "        fig.write_html(html_path)\n",
        "        wandb.log({\"Histogram of rmsd values\": wandb.Html(html_path)})\n",
        "\n",
        "def log_scatter_plot(x, y, ids, x_title, y_title, plot_title, log_name):\n",
        "    fig = go.Figure(data=[go.Scatter(\n",
        "        x=x,\n",
        "        y=y,\n",
        "        mode='markers',\n",
        "        marker=dict(size=10, color=y, colorscale='Viridis', colorbar=dict(title='RMSD')),\n",
        "        text=ids\n",
        "    )])\n",
        "\n",
        "    fig.update_layout(\n",
        "        title=plot_title,\n",
        "        xaxis_title=x_title,\n",
        "        yaxis_title=y_title\n",
        "    )\n",
        "\n",
        "    with tempfile.NamedTemporaryFile(suffix='.html', delete=False) as tmp_file:\n",
        "        html_path = tmp_file.name\n",
        "        fig.write_html(html_path)\n",
        "        wandb.log({log_name: wandb.Html(html_path)})\n",
        "\n",
        "def log_umap_plot(embeddings, labels, ids, plot_title, log_name, useBuckets = True):\n",
        "    if useBuckets:\n",
        "        # Create 5 buckets using percentiles and get the bins\n",
        "        buckets, bin_edges = pd.qcut(labels, q=5, retbins=True, duplicates=\"drop\")\n",
        "\n",
        "        # Create bucket labels from the bin edges\n",
        "        bucket_labels = [f'{bin_edges[i]:.2f}-{bin_edges[i+1]:.2f}'\n",
        "                        for i in range(len(bin_edges)-1)]\n",
        "\n",
        "        # Map each value to its bucket label\n",
        "        label_mapping = dict(zip(sorted(set(buckets)), bucket_labels))\n",
        "        labels = [label_mapping[val] for val in buckets]\n",
        "    traces = []\n",
        "    for unique_id in sorted(set(labels)):\n",
        "        # Filter points for this specific bucket/ID\n",
        "        mask = [i for i, id_val in enumerate(labels) if id_val == unique_id]\n",
        "\n",
        "        trace = go.Scatter(\n",
        "            x=embeddings[mask, 0],\n",
        "            y=embeddings[mask, 1],\n",
        "            mode='markers',\n",
        "            name=f'{unique_id}',\n",
        "            marker=dict(size=6),\n",
        "            text=[f'{ids[i]}, {labels[i]}' for i in mask],\n",
        "            hoverinfo='text'\n",
        "        )\n",
        "        traces.append(trace)\n",
        "\n",
        "    fig = go.Figure(data=traces)\n",
        "\n",
        "    fig.update_layout(\n",
        "        title=plot_title,\n",
        "        xaxis_title='TSNE Component 1',\n",
        "        yaxis_title='TSNE Component 2',\n",
        "        legend_title_text='Value Ranges',\n",
        "        legend=dict(\n",
        "            yanchor=\"top\",\n",
        "            y=0.99,\n",
        "            xanchor=\"left\",\n",
        "            x=0.01,\n",
        "            font=dict(size=8),\n",
        "            itemsizing='constant',\n",
        "            traceorder='grouped',\n",
        "            itemwidth=30\n",
        "        ),\n",
        "        legend_itemwidth=30\n",
        "    )\n",
        "\n",
        "    with tempfile.NamedTemporaryFile(suffix='.html', delete=False) as tmp_file:\n",
        "        html_path = tmp_file.name\n",
        "        fig.write_html(html_path)\n",
        "        wandb.log({log_name: wandb.Html(html_path)})\n",
        "\n",
        "def log_corrolation_plot(df, correlations):\n",
        "  pearson_corr = correlations[\"Pearson Correlation\"]\n",
        "  spearman_corr = correlations[\"Spearman Correlation\"]\n",
        "\n",
        "  fig = px.scatter(df, x='seq_len', y='rmsd',\n",
        "                  trendline=\"ols\",  # Adds regression line\n",
        "                  title=f'Correlation between Sequence Length and RMSD\\nPearson: {pearson_corr:.2f}, Spearman: {spearman_corr:.2f}',\n",
        "                  labels={\"sequence_length\": \"Sequence Length\", \"rmsd\": \"RMSD\"})\n",
        "\n",
        "  wandb.log({\"scatter_plot\": wandb.Html(fig.to_html())})\n",
        "\n",
        "def wand_logs(df, sequence_embeddings, structure_embeddings, all_priors, labels, open_or_closed_gt, open_or_closed_pred, correlations):\n",
        "    rmsd_results = df['rmsd'].to_list()\n",
        "    ids = df['id'].to_list()\n",
        "    seq_len = df['seq_len'].to_list()\n",
        "    strands = df['strands'].to_list()\n",
        "    seq_identities = df['seq_identity'].to_list()\n",
        "    seq_similarities = df['seq_similarity'].to_list()\n",
        "    norm_seq_similarities = df['norm_seq_similarity'].to_list()\n",
        "\n",
        "    seq_len_per_embedding = []\n",
        "    strand_per_embedding = []\n",
        "    rmsd_per_embedding = []\n",
        "    for id in labels:\n",
        "        seq_length = df[df['id'] == id]['seq_len'].values[0].astype(int)\n",
        "        strand_value = df[df['id'] == id]['strands'].values[0].astype(int)\n",
        "        rmsd_value = df[df['id'] == id]['rmsd'].values[0].astype(float)\n",
        "        seq_len_per_embedding.append(seq_length)\n",
        "        strand_per_embedding.append(strand_value)\n",
        "        rmsd_per_embedding.append(rmsd_value)\n",
        "\n",
        "\n",
        "    protein_metrics = sorted(list(zip(ids, rmsd_results, seq_len, strands,\n",
        "                                      open_or_closed_gt, open_or_closed_pred,\n",
        "                                      seq_identities, seq_similarities,\n",
        "                                      norm_seq_similarities)), key= lambda x: x[2]) # sort by seq length\n",
        "    wandb.log({\n",
        "        \"rmsd_results\": wandb.Table(\n",
        "            data=protein_metrics,\n",
        "            columns=[\"ID\", \"RMSD\", \"Sequence Length\", \"Strands\", \"Open/Closed GT\",\n",
        "                     \"Open/Closed Pred\", \"Sequence Identity\", \"Sequence Similarity\",\n",
        "                     \"Norm. Sequence Similarity\"]\n",
        "        )\n",
        "    })\n",
        "\n",
        "    log_histogram(rmsd_results)\n",
        "\n",
        "    log_corrolation_plot(df, correlations)\n",
        "\n",
        "    log_scatter_plot(seq_len, rmsd_results, ids, \"Sequence Length\", \"RMSD Value\", \"RMSD Values by sequence length\", \"RMSD Scatter plot\")\n",
        "    log_scatter_plot(strands, rmsd_results, ids, \"Number of Strands\", \"RMSD Value\", \"RMSD Values by number of strands\", \"RMSD Scatter plot\")\n",
        "\n",
        "    sequence_reducer = TSNE(n_components=2, perplexity=5)\n",
        "    sequence_emb = sequence_reducer.fit_transform(sequence_embeddings)\n",
        "\n",
        "    structure_reducer = TSNE(n_components=2, perplexity=5)\n",
        "    structure_emb = structure_reducer.fit_transform(structure_embeddings)\n",
        "\n",
        "    log_umap_plot(sequence_emb, seq_len_per_embedding, labels, \"Protein Sequence Embedding Colored By Sequence Len\", \"Embeddings Sequence\")\n",
        "    log_umap_plot(sequence_emb, strand_per_embedding, labels, \"Protein Sequence Embeddings Colored By Strands\", \"Embeddings Sequence\")\n",
        "\n",
        "    log_umap_plot(structure_emb, seq_len_per_embedding,labels,\"Protein Structure Embeddings Colored By Sequence Len\", \"Embeddings Structure\")\n",
        "    log_umap_plot(structure_emb, strand_per_embedding,labels,\"Protein Structure Embeddings Colored By Strands\", \"Embeddings Structure\")\n",
        "\n",
        "    log_umap_plot(sequence_emb, rmsd_per_embedding, labels,\"Protein Sequence Embeddings Colored By RMSD\", \"Embeddings Sequence\")\n",
        "    log_umap_plot(structure_emb, rmsd_per_embedding, labels,\"Protein Structure Embeddings Colored By RMSD\", \"Embeddings Structure\")\n",
        "\n",
        "    combined_embeddings = np.concatenate((structure_embeddings, all_priors))\n",
        "    prior_labels = [\"Original\"] * len(all_priors)\n",
        "    struct_labels = [\"Generated\"] * len(structure_embeddings)\n",
        "    all_labels = struct_labels + prior_labels\n",
        "    structure_reducer = TSNE(n_components=2, perplexity=5)\n",
        "    combined_embs = structure_reducer.fit_transform(combined_embeddings)\n",
        "\n",
        "    id_labels = labels + labels\n",
        "\n",
        "    log_umap_plot(combined_embs, all_labels, id_labels, \"Protein Structure Original vs Generated Embeddings\", \"Embeddings Space\", useBuckets=False)\n",
        "\n",
        "    cosine_distances = cdist(all_priors, structure_embeddings, metric='cosine')\n",
        "\n",
        "    find_interesting_cases(cosine_distances, rmsd_results, labels, open_or_closed_gt,\n",
        "                           open_or_closed_pred, seq_identities, seq_similarities,\n",
        "                           norm_seq_similarities)\n",
        "\n",
        "    analyze_barrel_predictions(labels, open_or_closed_pred, rmsd_results, open_or_closed_gt)\n",
        "\n",
        "    log_summary_statistics(rmsd_results, cosine_distances, correlations)\n"
      ]
    },
    {
      "cell_type": "code",
      "execution_count": 58,
      "metadata": {
        "id": "OKIqfJS3BaAe"
      },
      "outputs": [],
      "source": [
        "def calc_resi_pos(protein_chain, mask_percantage):\n",
        "  # Get actual residue values\n",
        "  residues = protein_chain.residue_index\n",
        "\n",
        "  total_residues = len(residues)\n",
        "  mask_pos = int(total_residues * (1-mask_percantage))\n",
        "\n",
        "  return residues[0], residues[mask_pos], residues[total_residues-1]"
      ]
    },
    {
      "cell_type": "code",
      "source": [
        "def calculate_correlation(chain_lengths, rmsds):\n",
        "    if len(chain_lengths) != len(rmsds):\n",
        "        raise ValueError(\"Chain lengths and RMSDs must have the same number of elements!\")\n",
        "\n",
        "    # Pearson correlation\n",
        "    pearson_corr, pearson_p = stats.pearsonr(chain_lengths, rmsds)\n",
        "\n",
        "    # Spearman correlation\n",
        "    spearman_corr, spearman_p = stats.spearmanr(chain_lengths, rmsds)\n",
        "\n",
        "    return {\n",
        "        \"Pearson Correlation\": pearson_corr,\n",
        "        \"Pearson p-value\": pearson_p,\n",
        "        \"Spearman Correlation\": spearman_corr,\n",
        "        \"Spearman p-value\": spearman_p,\n",
        "    }\n"
      ],
      "metadata": {
        "id": "_8YqglD7evSl"
      },
      "execution_count": 59,
      "outputs": []
    },
    {
      "cell_type": "code",
      "execution_count": 62,
      "metadata": {
        "colab": {
          "base_uri": "https://localhost:8080/",
          "height": 1000
        },
        "id": "vRTGyo2koGBE",
        "outputId": "60815e09-dbb4-466a-e240-eb14d5c8b741"
      },
      "outputs": [
        {
          "output_type": "stream",
          "name": "stderr",
          "text": [
            "\u001b[34m\u001b[1mwandb\u001b[0m: Currently logged in as: \u001b[33mdinakogan90\u001b[0m (\u001b[33mdinakogan90-university-of-haifa\u001b[0m). Use \u001b[1m`wandb login --relogin`\u001b[0m to force relogin\n"
          ]
        },
        {
          "output_type": "stream",
          "name": "stdout",
          "text": [
            "Run number:  0\n"
          ]
        },
        {
          "output_type": "display_data",
          "data": {
            "text/plain": [
              "<IPython.core.display.HTML object>"
            ],
            "text/html": [
              "Tracking run with wandb version 0.19.1"
            ]
          },
          "metadata": {}
        },
        {
          "output_type": "display_data",
          "data": {
            "text/plain": [
              "<IPython.core.display.HTML object>"
            ],
            "text/html": [
              "Run data is saved locally in <code>/content/wandb/run-20250113_221704-hq0gvwyr</code>"
            ]
          },
          "metadata": {}
        },
        {
          "output_type": "display_data",
          "data": {
            "text/plain": [
              "<IPython.core.display.HTML object>"
            ],
            "text/html": [
              "Syncing run <strong><a href='https://wandb.ai/dinakogan90-university-of-haifa/DFold/runs/hq0gvwyr' target=\"_blank\">silver-pine-28</a></strong> to <a href='https://wandb.ai/dinakogan90-university-of-haifa/DFold' target=\"_blank\">Weights & Biases</a> (<a href='https://wandb.me/developer-guide' target=\"_blank\">docs</a>)<br>"
            ]
          },
          "metadata": {}
        },
        {
          "output_type": "display_data",
          "data": {
            "text/plain": [
              "<IPython.core.display.HTML object>"
            ],
            "text/html": [
              " View project at <a href='https://wandb.ai/dinakogan90-university-of-haifa/DFold' target=\"_blank\">https://wandb.ai/dinakogan90-university-of-haifa/DFold</a>"
            ]
          },
          "metadata": {}
        },
        {
          "output_type": "display_data",
          "data": {
            "text/plain": [
              "<IPython.core.display.HTML object>"
            ],
            "text/html": [
              " View run at <a href='https://wandb.ai/dinakogan90-university-of-haifa/DFold/runs/hq0gvwyr' target=\"_blank\">https://wandb.ai/dinakogan90-university-of-haifa/DFold/runs/hq0gvwyr</a>"
            ]
          },
          "metadata": {}
        },
        {
          "output_type": "stream",
          "name": "stdout",
          "text": [
            "Loaded list\n",
            "id e1af6A1\n"
          ]
        },
        {
          "output_type": "stream",
          "name": "stderr",
          "text": [
            "100%|██████████| 10/10 [00:00<00:00, 12.03it/s]\n",
            "100%|██████████| 42/42 [00:03<00:00, 12.25it/s]\n",
            "/usr/local/lib/python3.10/dist-packages/esm/models/vqvae.py:286: FutureWarning:\n",
            "\n",
            "`torch.cuda.amp.autocast(args...)` is deprecated. Please use `torch.amp.autocast('cuda', args...)` instead.\n",
            "\n"
          ]
        },
        {
          "output_type": "stream",
          "name": "stdout",
          "text": [
            "id e1kmoA2\n"
          ]
        },
        {
          "output_type": "stream",
          "name": "stderr",
          "text": [
            "100%|██████████| 13/13 [00:01<00:00, 12.05it/s]\n",
            "100%|██████████| 52/52 [00:04<00:00, 12.12it/s]\n"
          ]
        },
        {
          "output_type": "stream",
          "name": "stdout",
          "text": [
            "id e1p4tA1\n"
          ]
        },
        {
          "output_type": "stream",
          "name": "stderr",
          "text": [
            "100%|██████████| 4/4 [00:00<00:00, 11.93it/s]\n",
            "100%|██████████| 15/15 [00:01<00:00, 11.98it/s]\n"
          ]
        },
        {
          "output_type": "stream",
          "name": "stdout",
          "text": [
            "id e1prnA1\n"
          ]
        },
        {
          "output_type": "stream",
          "name": "stderr",
          "text": [
            "100%|██████████| 7/7 [00:00<00:00, 12.02it/s]\n",
            "100%|██████████| 28/28 [00:02<00:00, 11.94it/s]\n"
          ]
        },
        {
          "output_type": "stream",
          "name": "stdout",
          "text": [
            "id e1qd5A1\n"
          ]
        },
        {
          "output_type": "stream",
          "name": "stderr",
          "text": [
            "100%|██████████| 6/6 [00:00<00:00, 11.66it/s]\n",
            "100%|██████████| 25/25 [00:02<00:00, 11.81it/s]\n"
          ]
        },
        {
          "output_type": "stream",
          "name": "stdout",
          "text": [
            "id e1qj8A1\n"
          ]
        },
        {
          "output_type": "stream",
          "name": "stderr",
          "text": [
            "100%|██████████| 3/3 [00:00<00:00, 11.97it/s]\n",
            "100%|██████████| 14/14 [00:01<00:00, 12.06it/s]\n"
          ]
        },
        {
          "output_type": "stream",
          "name": "stdout",
          "text": [
            "id e1qjpA1\n"
          ]
        },
        {
          "output_type": "stream",
          "name": "stderr",
          "text": [
            "100%|██████████| 3/3 [00:00<00:00, 11.99it/s]\n",
            "100%|██████████| 13/13 [00:01<00:00, 11.83it/s]\n"
          ]
        },
        {
          "output_type": "stream",
          "name": "stdout",
          "text": [
            "id e1t16A1\n"
          ]
        },
        {
          "output_type": "stream",
          "name": "stderr",
          "text": [
            "100%|██████████| 10/10 [00:00<00:00, 12.01it/s]\n",
            "100%|██████████| 42/42 [00:03<00:00, 11.75it/s]\n"
          ]
        },
        {
          "output_type": "stream",
          "name": "stdout",
          "text": [
            "id e1tlyA1\n"
          ]
        },
        {
          "output_type": "stream",
          "name": "stderr",
          "text": [
            "100%|██████████| 6/6 [00:00<00:00, 11.44it/s]\n",
            "100%|██████████| 25/25 [00:02<00:00, 11.83it/s]\n"
          ]
        },
        {
          "output_type": "stream",
          "name": "stdout",
          "text": [
            "id e1xkwA1\n"
          ]
        },
        {
          "output_type": "stream",
          "name": "stderr",
          "text": [
            "100%|██████████| 13/13 [00:01<00:00, 12.33it/s]\n",
            "100%|██████████| 52/52 [00:04<00:00, 12.14it/s]\n"
          ]
        },
        {
          "output_type": "stream",
          "name": "stdout",
          "text": [
            "id e2ervA1\n"
          ]
        },
        {
          "output_type": "stream",
          "name": "stderr",
          "text": [
            "100%|██████████| 3/3 [00:00<00:00, 11.55it/s]\n",
            "100%|██████████| 15/15 [00:01<00:00, 12.18it/s]\n"
          ]
        },
        {
          "output_type": "stream",
          "name": "stdout",
          "text": [
            "id e2f1vA1\n"
          ]
        },
        {
          "output_type": "stream",
          "name": "stderr",
          "text": [
            "100%|██████████| 4/4 [00:00<00:00, 11.53it/s]\n",
            "100%|██████████| 18/18 [00:01<00:00, 12.14it/s]\n"
          ]
        },
        {
          "output_type": "stream",
          "name": "stdout",
          "text": [
            "id e2fgrA1\n"
          ]
        },
        {
          "output_type": "stream",
          "name": "stderr",
          "text": [
            "100%|██████████| 8/8 [00:00<00:00, 12.02it/s]\n",
            "100%|██████████| 33/33 [00:02<00:00, 11.64it/s]\n"
          ]
        },
        {
          "output_type": "stream",
          "name": "stdout",
          "text": [
            "id e2gskA1\n"
          ]
        },
        {
          "output_type": "stream",
          "name": "stderr",
          "text": [
            "100%|██████████| 11/11 [00:00<00:00, 12.06it/s]\n",
            "100%|██████████| 46/46 [00:03<00:00, 12.04it/s]\n"
          ]
        },
        {
          "output_type": "stream",
          "name": "stdout",
          "text": [
            "id e2hdiA1\n"
          ]
        },
        {
          "output_type": "stream",
          "name": "stderr",
          "text": [
            "100%|██████████| 11/11 [00:00<00:00, 11.97it/s]\n",
            "100%|██████████| 46/46 [00:03<00:00, 11.66it/s]\n"
          ]
        },
        {
          "output_type": "stream",
          "name": "stdout",
          "text": [
            "id e2iahA3\n"
          ]
        },
        {
          "output_type": "stream",
          "name": "stderr",
          "text": [
            "100%|██████████| 13/13 [00:01<00:00, 12.24it/s]\n",
            "100%|██████████| 54/54 [00:04<00:00, 12.10it/s]\n"
          ]
        },
        {
          "output_type": "stream",
          "name": "stdout",
          "text": [
            "id e2lhfA1\n"
          ]
        },
        {
          "output_type": "stream",
          "name": "stderr",
          "text": [
            "100%|██████████| 4/4 [00:00<00:00, 11.95it/s]\n",
            "100%|██████████| 17/17 [00:01<00:00, 12.10it/s]\n"
          ]
        },
        {
          "output_type": "stream",
          "name": "stdout",
          "text": [
            "id e2mafA1\n"
          ]
        },
        {
          "output_type": "stream",
          "name": "stderr",
          "text": [
            "100%|██████████| 6/6 [00:00<00:00, 12.10it/s]\n",
            "100%|██████████| 23/23 [00:01<00:00, 11.69it/s]\n"
          ]
        },
        {
          "output_type": "stream",
          "name": "stdout",
          "text": [
            "id e2porA1\n"
          ]
        },
        {
          "output_type": "stream",
          "name": "stderr",
          "text": [
            "100%|██████████| 7/7 [00:00<00:00, 11.91it/s]\n",
            "100%|██████████| 30/30 [00:02<00:00, 12.03it/s]\n"
          ]
        },
        {
          "output_type": "stream",
          "name": "stdout",
          "text": [
            "id e2vdfA1\n"
          ]
        },
        {
          "output_type": "stream",
          "name": "stderr",
          "text": [
            "100%|██████████| 5/5 [00:00<00:00, 11.96it/s]\n",
            "100%|██████████| 22/22 [00:01<00:00, 12.15it/s]\n"
          ]
        },
        {
          "output_type": "stream",
          "name": "stdout",
          "text": [
            "id e2wjrA1\n"
          ]
        },
        {
          "output_type": "stream",
          "name": "stderr",
          "text": [
            "100%|██████████| 5/5 [00:00<00:00, 11.90it/s]\n",
            "100%|██████████| 20/20 [00:01<00:00, 12.03it/s]\n"
          ]
        },
        {
          "output_type": "stream",
          "name": "stdout",
          "text": [
            "id e2x55A1\n"
          ]
        },
        {
          "output_type": "stream",
          "name": "stderr",
          "text": [
            "100%|██████████| 7/7 [00:00<00:00, 11.89it/s]\n",
            "100%|██████████| 27/27 [00:02<00:00, 11.79it/s]\n"
          ]
        },
        {
          "output_type": "stream",
          "name": "stdout",
          "text": [
            "id e2ynkA1\n"
          ]
        },
        {
          "output_type": "stream",
          "name": "stderr",
          "text": [
            "100%|██████████| 11/11 [00:00<00:00, 11.97it/s]\n",
            "100%|██████████| 44/44 [00:03<00:00, 12.06it/s]\n"
          ]
        },
        {
          "output_type": "stream",
          "name": "stdout",
          "text": [
            "id e3aehA1\n"
          ]
        },
        {
          "output_type": "stream",
          "name": "stderr",
          "text": [
            "100%|██████████| 7/7 [00:00<00:00, 12.17it/s]\n",
            "100%|██████████| 27/27 [00:02<00:00, 12.16it/s]\n"
          ]
        },
        {
          "output_type": "stream",
          "name": "stdout",
          "text": [
            "id e3bryA1\n"
          ]
        },
        {
          "output_type": "stream",
          "name": "stderr",
          "text": [
            "100%|██████████| 9/9 [00:00<00:00, 12.30it/s]\n",
            "100%|██████████| 38/38 [00:03<00:00, 12.02it/s]\n"
          ]
        },
        {
          "output_type": "stream",
          "name": "stdout",
          "text": [
            "id e3bs0A1\n"
          ]
        },
        {
          "output_type": "stream",
          "name": "stderr",
          "text": [
            "100%|██████████| 10/10 [00:00<00:00, 12.24it/s]\n",
            "100%|██████████| 41/41 [00:03<00:00, 12.23it/s]\n"
          ]
        },
        {
          "output_type": "stream",
          "name": "stdout",
          "text": [
            "id e3cslA1\n"
          ]
        },
        {
          "output_type": "stream",
          "name": "stderr",
          "text": [
            "100%|██████████| 16/16 [00:01<00:00, 12.13it/s]\n",
            "100%|██████████| 63/63 [00:05<00:00, 11.94it/s]\n"
          ]
        },
        {
          "output_type": "stream",
          "name": "stdout",
          "text": [
            "id e3dzmA1\n"
          ]
        },
        {
          "output_type": "stream",
          "name": "stderr",
          "text": [
            "100%|██████████| 5/5 [00:00<00:00, 12.23it/s]\n",
            "100%|██████████| 20/20 [00:01<00:00, 12.08it/s]\n"
          ]
        },
        {
          "output_type": "stream",
          "name": "stdout",
          "text": [
            "id e3efmA1\n"
          ]
        },
        {
          "output_type": "stream",
          "name": "stderr",
          "text": [
            "100%|██████████| 11/11 [00:00<00:00, 12.12it/s]\n",
            "100%|██████████| 43/43 [00:03<00:00, 12.00it/s]\n"
          ]
        },
        {
          "output_type": "stream",
          "name": "stdout",
          "text": [
            "id e3fhhA2\n"
          ]
        },
        {
          "output_type": "stream",
          "name": "stderr",
          "text": [
            "100%|██████████| 12/12 [00:00<00:00, 12.05it/s]\n",
            "100%|██████████| 49/49 [00:04<00:00, 11.88it/s]\n"
          ]
        },
        {
          "output_type": "stream",
          "name": "stdout",
          "text": [
            "id e3fidA1\n"
          ]
        },
        {
          "output_type": "stream",
          "name": "stderr",
          "text": [
            "100%|██████████| 7/7 [00:00<00:00, 12.02it/s]\n",
            "100%|██████████| 29/29 [00:02<00:00, 11.99it/s]\n"
          ]
        },
        {
          "output_type": "stream",
          "name": "stdout",
          "text": [
            "id e3fipA1\n"
          ]
        },
        {
          "output_type": "stream",
          "name": "stderr",
          "text": [
            "100%|██████████| 9/9 [00:00<00:00, 12.17it/s]\n",
            "100%|██████████| 36/36 [00:02<00:00, 12.16it/s]\n"
          ]
        },
        {
          "output_type": "stream",
          "name": "stdout",
          "text": [
            "id e3gp6A1\n"
          ]
        },
        {
          "output_type": "stream",
          "name": "stderr",
          "text": [
            "100%|██████████| 4/4 [00:00<00:00, 12.07it/s]\n",
            "100%|██████████| 15/15 [00:01<00:00, 11.76it/s]\n"
          ]
        },
        {
          "output_type": "stream",
          "name": "stdout",
          "text": [
            "id e3kvnA1\n"
          ]
        },
        {
          "output_type": "stream",
          "name": "stderr",
          "text": [
            "100%|██████████| 8/8 [00:00<00:00, 11.93it/s]\n",
            "100%|██████████| 31/31 [00:02<00:00, 11.98it/s]\n"
          ]
        },
        {
          "output_type": "stream",
          "name": "stdout",
          "text": [
            "id e3ohnA1\n"
          ]
        },
        {
          "output_type": "stream",
          "name": "stderr",
          "text": [
            "100%|██████████| 10/10 [00:00<00:00, 12.40it/s]\n",
            "100%|██████████| 39/39 [00:03<00:00, 12.18it/s]\n"
          ]
        },
        {
          "output_type": "stream",
          "name": "stdout",
          "text": [
            "id e3qlbA1\n"
          ]
        },
        {
          "output_type": "stream",
          "name": "stderr",
          "text": [
            "100%|██████████| 13/13 [00:01<00:00, 11.93it/s]\n",
            "100%|██████████| 53/53 [00:04<00:00, 12.08it/s]\n"
          ]
        },
        {
          "output_type": "stream",
          "name": "stdout",
          "text": [
            "id e3qq2A1\n"
          ]
        },
        {
          "output_type": "stream",
          "name": "stderr",
          "text": [
            "100%|██████████| 6/6 [00:00<00:00, 12.08it/s]\n",
            "100%|██████████| 24/24 [00:01<00:00, 12.03it/s]\n"
          ]
        },
        {
          "output_type": "stream",
          "name": "stdout",
          "text": [
            "id e3qraA1\n"
          ]
        },
        {
          "output_type": "stream",
          "name": "stderr",
          "text": [
            "100%|██████████| 4/4 [00:00<00:00, 11.99it/s]\n",
            "100%|██████████| 15/15 [00:01<00:00, 12.15it/s]\n"
          ]
        },
        {
          "output_type": "stream",
          "name": "stdout",
          "text": [
            "id e3sy7A2\n"
          ]
        },
        {
          "output_type": "stream",
          "name": "stderr",
          "text": [
            "100%|██████████| 9/9 [00:00<00:00, 12.07it/s]\n",
            "100%|██████████| 38/38 [00:03<00:00, 12.00it/s]\n"
          ]
        },
        {
          "output_type": "stream",
          "name": "stdout",
          "text": [
            "id e3sy9A2\n"
          ]
        },
        {
          "output_type": "stream",
          "name": "stderr",
          "text": [
            "100%|██████████| 9/9 [00:00<00:00, 12.17it/s]\n",
            "100%|██████████| 37/37 [00:03<00:00, 12.23it/s]\n"
          ]
        },
        {
          "output_type": "stream",
          "name": "stdout",
          "text": [
            "id e3sybA2\n"
          ]
        },
        {
          "output_type": "stream",
          "name": "stderr",
          "text": [
            "100%|██████████| 10/10 [00:00<00:00, 12.16it/s]\n",
            "100%|██████████| 40/40 [00:03<00:00, 12.09it/s]\n"
          ]
        },
        {
          "output_type": "stream",
          "name": "stdout",
          "text": [
            "id e3sysA1\n"
          ]
        },
        {
          "output_type": "stream",
          "name": "stderr",
          "text": [
            "100%|██████████| 9/9 [00:00<00:00, 11.94it/s]\n",
            "100%|██████████| 37/37 [00:03<00:00, 11.85it/s]\n"
          ]
        },
        {
          "output_type": "stream",
          "name": "stdout",
          "text": [
            "id e3szvA1\n"
          ]
        },
        {
          "output_type": "stream",
          "name": "stderr",
          "text": [
            "100%|██████████| 8/8 [00:00<00:00, 11.90it/s]\n",
            "100%|██████████| 32/32 [00:02<00:00, 12.02it/s]\n"
          ]
        },
        {
          "output_type": "stream",
          "name": "stdout",
          "text": [
            "id e3t0sA1\n"
          ]
        },
        {
          "output_type": "stream",
          "name": "stderr",
          "text": [
            "100%|██████████| 9/9 [00:00<00:00, 12.23it/s]\n",
            "100%|██████████| 36/36 [00:02<00:00, 12.16it/s]\n"
          ]
        },
        {
          "output_type": "stream",
          "name": "stdout",
          "text": [
            "id e3v8xA1\n"
          ]
        },
        {
          "output_type": "stream",
          "name": "stderr",
          "text": [
            "100%|██████████| 18/18 [00:01<00:00, 12.02it/s]\n",
            "100%|██████████| 72/72 [00:05<00:00, 12.08it/s]\n"
          ]
        },
        {
          "output_type": "stream",
          "name": "stdout",
          "text": [
            "id e4afkA1\n"
          ]
        },
        {
          "output_type": "stream",
          "name": "stderr",
          "text": [
            "100%|██████████| 10/10 [00:00<00:00, 12.14it/s]\n",
            "100%|██████████| 39/39 [00:03<00:00, 12.11it/s]\n"
          ]
        },
        {
          "output_type": "stream",
          "name": "stdout",
          "text": [
            "id e4aipA1\n"
          ]
        },
        {
          "output_type": "stream",
          "name": "stderr",
          "text": [
            "100%|██████████| 13/13 [00:01<00:00, 12.11it/s]\n",
            "100%|██████████| 54/54 [00:04<00:00, 12.02it/s]\n"
          ]
        },
        {
          "output_type": "stream",
          "name": "stdout",
          "text": [
            "id e4c00A4\n"
          ]
        },
        {
          "output_type": "stream",
          "name": "stderr",
          "text": [
            "100%|██████████| 8/8 [00:00<00:00, 11.86it/s]\n",
            "100%|██████████| 31/31 [00:02<00:00, 11.95it/s]\n"
          ]
        },
        {
          "output_type": "stream",
          "name": "stdout",
          "text": [
            "id e4cu4A2\n"
          ]
        },
        {
          "output_type": "stream",
          "name": "stderr",
          "text": [
            "100%|██████████| 13/13 [00:01<00:00, 11.92it/s]\n",
            "100%|██████████| 54/54 [00:04<00:00, 12.17it/s]\n"
          ]
        },
        {
          "output_type": "stream",
          "name": "stdout",
          "text": [
            "id e4d5bA1\n"
          ]
        },
        {
          "output_type": "stream",
          "name": "stderr",
          "text": [
            "100%|██████████| 8/8 [00:00<00:00, 12.17it/s]\n",
            "100%|██████████| 31/31 [00:02<00:00, 12.02it/s]\n"
          ]
        },
        {
          "output_type": "stream",
          "name": "stdout",
          "text": [
            "id e4e1sA1\n"
          ]
        },
        {
          "output_type": "stream",
          "name": "stderr",
          "text": [
            "100%|██████████| 6/6 [00:00<00:00, 12.03it/s]\n",
            "100%|██████████| 24/24 [00:01<00:00, 12.01it/s]\n"
          ]
        },
        {
          "output_type": "stream",
          "name": "stdout",
          "text": [
            "id e4e1tA1\n"
          ]
        },
        {
          "output_type": "stream",
          "name": "stderr",
          "text": [
            "100%|██████████| 6/6 [00:00<00:00, 11.68it/s]\n",
            "100%|██████████| 24/24 [00:02<00:00, 11.72it/s]\n"
          ]
        },
        {
          "output_type": "stream",
          "name": "stdout",
          "text": [
            "id e4epaA1\n"
          ]
        },
        {
          "output_type": "stream",
          "name": "stderr",
          "text": [
            "100%|██████████| 12/12 [00:01<00:00, 11.92it/s]\n",
            "100%|██████████| 50/50 [00:04<00:00, 11.78it/s]\n"
          ]
        },
        {
          "output_type": "stream",
          "name": "stdout",
          "text": [
            "id e4fqeA1\n"
          ]
        },
        {
          "output_type": "stream",
          "name": "stderr",
          "text": [
            "100%|██████████| 4/4 [00:00<00:00, 11.86it/s]\n",
            "100%|██████████| 16/16 [00:01<00:00, 11.88it/s]\n"
          ]
        },
        {
          "output_type": "stream",
          "name": "stdout",
          "text": [
            "id e4frxA1\n"
          ]
        },
        {
          "output_type": "stream",
          "name": "stderr",
          "text": [
            "100%|██████████| 10/10 [00:00<00:00, 12.05it/s]\n",
            "100%|██████████| 39/39 [00:03<00:00, 12.00it/s]\n"
          ]
        },
        {
          "output_type": "stream",
          "name": "stdout",
          "text": [
            "id e4fsoA1\n"
          ]
        },
        {
          "output_type": "stream",
          "name": "stderr",
          "text": [
            "100%|██████████| 9/9 [00:00<00:00, 12.42it/s]\n",
            "100%|██████████| 35/35 [00:02<00:00, 12.07it/s]\n"
          ]
        },
        {
          "output_type": "stream",
          "name": "stdout",
          "text": [
            "id e4fspA1\n"
          ]
        },
        {
          "output_type": "stream",
          "name": "stderr",
          "text": [
            "100%|██████████| 8/8 [00:00<00:00, 11.90it/s]\n",
            "100%|██████████| 32/32 [00:02<00:00, 12.05it/s]\n"
          ]
        },
        {
          "output_type": "stream",
          "name": "stdout",
          "text": [
            "id e4fuvA1\n"
          ]
        },
        {
          "output_type": "stream",
          "name": "stderr",
          "text": [
            "100%|██████████| 5/5 [00:00<00:00, 11.94it/s]\n",
            "100%|██████████| 21/21 [00:01<00:00, 11.50it/s]\n"
          ]
        },
        {
          "output_type": "stream",
          "name": "stdout",
          "text": [
            "id e4geyA1\n"
          ]
        },
        {
          "output_type": "stream",
          "name": "stderr",
          "text": [
            "100%|██████████| 10/10 [00:00<00:00, 12.30it/s]\n",
            "100%|██████████| 42/42 [00:03<00:00, 12.21it/s]\n"
          ]
        },
        {
          "output_type": "stream",
          "name": "stdout",
          "text": [
            "id e4k3bA6\n"
          ]
        },
        {
          "output_type": "stream",
          "name": "stderr",
          "text": [
            "100%|██████████| 9/9 [00:00<00:00, 12.15it/s]\n",
            "100%|██████████| 37/37 [00:03<00:00, 12.08it/s]\n"
          ]
        },
        {
          "output_type": "stream",
          "name": "stdout",
          "text": [
            "id e4k3cA3\n"
          ]
        },
        {
          "output_type": "stream",
          "name": "stderr",
          "text": [
            "100%|██████████| 9/9 [00:00<00:00, 11.79it/s]\n",
            "100%|██████████| 37/37 [00:03<00:00, 11.83it/s]\n"
          ]
        },
        {
          "output_type": "stream",
          "name": "stdout",
          "text": [
            "id e4meeA1\n"
          ]
        },
        {
          "output_type": "stream",
          "name": "stderr",
          "text": [
            "100%|██████████| 7/7 [00:00<00:00, 12.02it/s]\n",
            "100%|██████████| 30/30 [00:02<00:00, 12.13it/s]\n"
          ]
        },
        {
          "output_type": "stream",
          "name": "stdout",
          "text": [
            "id e4n75A1\n"
          ]
        },
        {
          "output_type": "stream",
          "name": "stderr",
          "text": [
            "100%|██████████| 9/9 [00:00<00:00, 12.05it/s]\n",
            "100%|██████████| 37/37 [00:03<00:00, 12.04it/s]\n"
          ]
        },
        {
          "output_type": "stream",
          "name": "stdout",
          "text": [
            "id e4q35A2\n"
          ]
        },
        {
          "output_type": "stream",
          "name": "stderr",
          "text": [
            "100%|██████████| 14/14 [00:01<00:00, 12.00it/s]\n",
            "100%|██████████| 55/55 [00:04<00:00, 11.95it/s]\n"
          ]
        },
        {
          "output_type": "stream",
          "name": "stdout",
          "text": [
            "id e4qkyA1\n"
          ]
        },
        {
          "output_type": "stream",
          "name": "stderr",
          "text": [
            "100%|██████████| 7/7 [00:00<00:00, 11.77it/s]\n",
            "100%|██████████| 28/28 [00:02<00:00, 11.94it/s]\n"
          ]
        },
        {
          "output_type": "stream",
          "name": "stdout",
          "text": [
            "id e4rdrA2\n"
          ]
        },
        {
          "output_type": "stream",
          "name": "stderr",
          "text": [
            "100%|██████████| 14/14 [00:01<00:00, 12.33it/s]\n",
            "100%|██████████| 57/57 [00:04<00:00, 11.82it/s]\n"
          ]
        },
        {
          "output_type": "stream",
          "name": "stdout",
          "text": [
            "id e4rjwA1\n"
          ]
        },
        {
          "output_type": "stream",
          "name": "stderr",
          "text": [
            "100%|██████████| 10/10 [00:00<00:00, 12.16it/s]\n",
            "100%|██████████| 39/39 [00:03<00:00, 12.02it/s]\n"
          ]
        },
        {
          "output_type": "stream",
          "name": "stdout",
          "text": [
            "id e4rl8A1\n"
          ]
        },
        {
          "output_type": "stream",
          "name": "stderr",
          "text": [
            "100%|██████████| 6/6 [00:00<00:00, 11.93it/s]\n",
            "100%|██████████| 26/26 [00:02<00:00, 12.04it/s]\n"
          ]
        },
        {
          "output_type": "stream",
          "name": "stdout",
          "text": [
            "id e4rlcA1\n"
          ]
        },
        {
          "output_type": "stream",
          "name": "stderr",
          "text": [
            "100%|██████████| 3/3 [00:00<00:00, 12.10it/s]\n",
            "100%|██████████| 13/13 [00:01<00:00, 11.73it/s]\n"
          ]
        },
        {
          "output_type": "stream",
          "name": "stdout",
          "text": [
            "id e4y25A1\n"
          ]
        },
        {
          "output_type": "stream",
          "name": "stderr",
          "text": [
            "100%|██████████| 7/7 [00:00<00:00, 11.90it/s]\n",
            "100%|██████████| 29/29 [00:02<00:00, 11.97it/s]\n"
          ]
        },
        {
          "output_type": "stream",
          "name": "stdout",
          "text": [
            "id e4zgvA1\n"
          ]
        },
        {
          "output_type": "stream",
          "name": "stderr",
          "text": [
            "100%|██████████| 16/16 [00:01<00:00, 12.10it/s]\n",
            "100%|██████████| 66/66 [00:05<00:00, 11.86it/s]\n"
          ]
        },
        {
          "output_type": "stream",
          "name": "stdout",
          "text": [
            "id e5dl5A1\n"
          ]
        },
        {
          "output_type": "stream",
          "name": "stderr",
          "text": [
            "100%|██████████| 10/10 [00:00<00:00, 11.92it/s]\n",
            "100%|██████████| 40/40 [00:03<00:00, 11.92it/s]\n"
          ]
        },
        {
          "output_type": "stream",
          "name": "stdout",
          "text": [
            "id e5dl6A1\n"
          ]
        },
        {
          "output_type": "stream",
          "name": "stderr",
          "text": [
            "100%|██████████| 10/10 [00:00<00:00, 12.14it/s]\n",
            "100%|██████████| 39/39 [00:03<00:00, 12.03it/s]\n"
          ]
        },
        {
          "output_type": "stream",
          "name": "stdout",
          "text": [
            "id e5dl7A1\n"
          ]
        },
        {
          "output_type": "stream",
          "name": "stderr",
          "text": [
            "100%|██████████| 10/10 [00:00<00:00, 12.18it/s]\n",
            "100%|██████████| 40/40 [00:03<00:00, 11.83it/s]\n"
          ]
        },
        {
          "output_type": "stream",
          "name": "stdout",
          "text": [
            "id e5dl8A1\n"
          ]
        },
        {
          "output_type": "stream",
          "name": "stderr",
          "text": [
            "100%|██████████| 9/9 [00:00<00:00, 11.96it/s]\n",
            "100%|██████████| 37/37 [00:03<00:00, 12.06it/s]\n"
          ]
        },
        {
          "output_type": "stream",
          "name": "stdout",
          "text": [
            "id e5fokA1\n"
          ]
        },
        {
          "output_type": "stream",
          "name": "stderr",
          "text": [
            "100%|██████████| 13/13 [00:01<00:00, 12.07it/s]\n",
            "100%|██████████| 53/53 [00:04<00:00, 11.87it/s]\n"
          ]
        },
        {
          "output_type": "stream",
          "name": "stdout",
          "text": [
            "id e5fp1A1\n"
          ]
        },
        {
          "output_type": "stream",
          "name": "stderr",
          "text": [
            "100%|██████████| 14/14 [00:01<00:00, 12.01it/s]\n",
            "100%|██████████| 57/57 [00:04<00:00, 12.06it/s]\n"
          ]
        },
        {
          "output_type": "stream",
          "name": "stdout",
          "text": [
            "id e5fq8B2\n"
          ]
        },
        {
          "output_type": "stream",
          "name": "stderr",
          "text": [
            "100%|██████████| 20/20 [00:01<00:00, 12.24it/s]\n",
            "100%|██████████| 81/81 [00:06<00:00, 12.02it/s]\n"
          ]
        },
        {
          "output_type": "stream",
          "name": "stdout",
          "text": [
            "id e5fr8A2\n"
          ]
        },
        {
          "output_type": "stream",
          "name": "stderr",
          "text": [
            "100%|██████████| 14/14 [00:01<00:00, 12.35it/s]\n",
            "100%|██████████| 56/56 [00:04<00:00, 12.02it/s]\n"
          ]
        },
        {
          "output_type": "stream",
          "name": "stdout",
          "text": [
            "id e5fvnA1\n"
          ]
        },
        {
          "output_type": "stream",
          "name": "stderr",
          "text": [
            "100%|██████████| 8/8 [00:00<00:00, 11.88it/s]\n",
            "100%|██████████| 34/34 [00:02<00:00, 11.91it/s]\n"
          ]
        },
        {
          "output_type": "stream",
          "name": "stdout",
          "text": [
            "id e5ivaA1\n"
          ]
        },
        {
          "output_type": "stream",
          "name": "stderr",
          "text": [
            "100%|██████████| 14/14 [00:01<00:00, 12.00it/s]\n",
            "100%|██████████| 57/57 [00:04<00:00, 12.16it/s]\n"
          ]
        },
        {
          "output_type": "stream",
          "name": "stdout",
          "text": [
            "id e5ldvA1\n"
          ]
        },
        {
          "output_type": "stream",
          "name": "stderr",
          "text": [
            "100%|██████████| 10/10 [00:00<00:00, 11.97it/s]\n",
            "100%|██████████| 40/40 [00:03<00:00, 12.07it/s]\n"
          ]
        },
        {
          "output_type": "stream",
          "name": "stdout",
          "text": [
            "id e5m9bA1\n"
          ]
        },
        {
          "output_type": "stream",
          "name": "stderr",
          "text": [
            "100%|██████████| 14/14 [00:01<00:00, 12.20it/s]\n",
            "100%|██████████| 56/56 [00:04<00:00, 12.08it/s]\n"
          ]
        },
        {
          "output_type": "stream",
          "name": "stdout",
          "text": [
            "id e5mdoA1\n"
          ]
        },
        {
          "output_type": "stream",
          "name": "stderr",
          "text": [
            "100%|██████████| 8/8 [00:00<00:00, 11.81it/s]\n",
            "100%|██████████| 33/33 [00:02<00:00, 11.78it/s]\n"
          ]
        },
        {
          "output_type": "stream",
          "name": "stdout",
          "text": [
            "id e5o65A1\n"
          ]
        },
        {
          "output_type": "stream",
          "name": "stderr",
          "text": [
            "100%|██████████| 5/5 [00:00<00:00, 11.83it/s]\n",
            "100%|██████████| 20/20 [00:01<00:00, 11.98it/s]\n"
          ]
        },
        {
          "output_type": "stream",
          "name": "stdout",
          "text": [
            "id e5o8oA1\n"
          ]
        },
        {
          "output_type": "stream",
          "name": "stderr",
          "text": [
            "100%|██████████| 8/8 [00:00<00:00, 11.96it/s]\n",
            "100%|██████████| 33/33 [00:02<00:00, 12.02it/s]\n"
          ]
        },
        {
          "output_type": "stream",
          "name": "stdout",
          "text": [
            "id e5t3rD1\n"
          ]
        },
        {
          "output_type": "stream",
          "name": "stderr",
          "text": [
            "100%|██████████| 19/19 [00:01<00:00, 12.08it/s]\n",
            "100%|██████████| 78/78 [00:06<00:00, 11.91it/s]\n"
          ]
        },
        {
          "output_type": "stream",
          "name": "stdout",
          "text": [
            "id e6bpmA1\n"
          ]
        },
        {
          "output_type": "stream",
          "name": "stderr",
          "text": [
            "100%|██████████| 14/14 [00:01<00:00, 12.15it/s]\n",
            "100%|██████████| 58/58 [00:04<00:00, 11.88it/s]\n"
          ]
        },
        {
          "output_type": "stream",
          "name": "stdout",
          "text": [
            "id e6e4vA1\n"
          ]
        },
        {
          "output_type": "stream",
          "name": "stderr",
          "text": [
            "100%|██████████| 13/13 [00:01<00:00, 11.89it/s]\n",
            "100%|██████████| 54/54 [00:04<00:00, 12.11it/s]\n"
          ]
        },
        {
          "output_type": "stream",
          "name": "stdout",
          "text": [
            "id e6ehbA1\n"
          ]
        },
        {
          "output_type": "stream",
          "name": "stderr",
          "text": [
            "100%|██████████| 8/8 [00:00<00:00, 11.86it/s]\n",
            "100%|██████████| 31/31 [00:02<00:00, 12.00it/s]\n"
          ]
        },
        {
          "output_type": "stream",
          "name": "stdout",
          "text": [
            "id e6ehdA1\n"
          ]
        },
        {
          "output_type": "stream",
          "name": "stderr",
          "text": [
            "100%|██████████| 8/8 [00:00<00:00, 11.58it/s]\n",
            "100%|██████████| 32/32 [00:02<00:00, 11.73it/s]\n"
          ]
        },
        {
          "output_type": "stream",
          "name": "stdout",
          "text": [
            "id e6eusA1\n"
          ]
        },
        {
          "output_type": "stream",
          "name": "stderr",
          "text": [
            "100%|██████████| 8/8 [00:00<00:00, 11.81it/s]\n",
            "100%|██████████| 34/34 [00:02<00:00, 11.92it/s]\n"
          ]
        },
        {
          "output_type": "stream",
          "name": "stdout",
          "text": [
            "id e6fokA1\n"
          ]
        },
        {
          "output_type": "stream",
          "name": "stderr",
          "text": [
            "100%|██████████| 12/12 [00:01<00:00, 11.94it/s]\n",
            "100%|██████████| 47/47 [00:03<00:00, 11.96it/s]\n"
          ]
        },
        {
          "output_type": "stream",
          "name": "stdout",
          "text": [
            "id e6gieA1\n"
          ]
        },
        {
          "output_type": "stream",
          "name": "stderr",
          "text": [
            "100%|██████████| 4/4 [00:00<00:00, 11.88it/s]\n",
            "100%|██████████| 17/17 [00:01<00:00, 11.81it/s]\n"
          ]
        },
        {
          "output_type": "stream",
          "name": "stdout",
          "text": [
            "id e6h3iF1\n"
          ]
        },
        {
          "output_type": "stream",
          "name": "stderr",
          "text": [
            "100%|██████████| 8/8 [00:00<00:00, 11.88it/s]\n",
            "100%|██████████| 32/32 [00:02<00:00, 11.77it/s]\n"
          ]
        },
        {
          "output_type": "stream",
          "name": "stdout",
          "text": [
            "id e6h7fA1\n"
          ]
        },
        {
          "output_type": "stream",
          "name": "stderr",
          "text": [
            "100%|██████████| 13/13 [00:01<00:00, 12.19it/s]\n",
            "100%|██████████| 53/53 [00:04<00:00, 11.96it/s]\n"
          ]
        },
        {
          "output_type": "stream",
          "name": "stdout",
          "text": [
            "id e6i96A1\n"
          ]
        },
        {
          "output_type": "stream",
          "name": "stderr",
          "text": [
            "100%|██████████| 13/13 [00:01<00:00, 12.07it/s]\n",
            "100%|██████████| 53/53 [00:04<00:00, 11.91it/s]\n"
          ]
        },
        {
          "output_type": "stream",
          "name": "stdout",
          "text": [
            "id e6qwrA1\n"
          ]
        },
        {
          "output_type": "stream",
          "name": "stderr",
          "text": [
            "100%|██████████| 5/5 [00:00<00:00, 11.79it/s]\n",
            "100%|██████████| 21/21 [00:01<00:00, 11.84it/s]\n"
          ]
        },
        {
          "output_type": "stream",
          "name": "stdout",
          "text": [
            "id e6r2qB1\n"
          ]
        },
        {
          "output_type": "stream",
          "name": "stderr",
          "text": [
            "100%|██████████| 16/16 [00:01<00:00, 11.99it/s]\n",
            "100%|██████████| 64/64 [00:05<00:00, 11.89it/s]\n"
          ]
        },
        {
          "output_type": "stream",
          "name": "stdout",
          "text": [
            "id e6sljA1\n"
          ]
        },
        {
          "output_type": "stream",
          "name": "stderr",
          "text": [
            "100%|██████████| 19/19 [00:01<00:00, 12.03it/s]\n",
            "100%|██████████| 75/75 [00:06<00:00, 11.96it/s]\n"
          ]
        },
        {
          "output_type": "stream",
          "name": "stdout",
          "text": [
            "id e6ucuA1\n"
          ]
        },
        {
          "output_type": "stream",
          "name": "stderr",
          "text": [
            "100%|██████████| 7/7 [00:00<00:00, 11.75it/s]\n",
            "100%|██████████| 30/30 [00:02<00:00, 11.93it/s]\n"
          ]
        },
        {
          "output_type": "stream",
          "name": "stdout",
          "text": [
            "id e6v81A2\n"
          ]
        },
        {
          "output_type": "stream",
          "name": "stderr",
          "text": [
            "100%|██████████| 14/14 [00:01<00:00, 11.92it/s]\n",
            "100%|██████████| 55/55 [00:04<00:00, 12.00it/s]\n"
          ]
        },
        {
          "output_type": "display_data",
          "data": {
            "text/plain": [
              "<IPython.core.display.HTML object>"
            ],
            "text/html": []
          },
          "metadata": {}
        },
        {
          "output_type": "display_data",
          "data": {
            "text/plain": [
              "<IPython.core.display.HTML object>"
            ],
            "text/html": [
              "<br>    <style><br>        .wandb-row {<br>            display: flex;<br>            flex-direction: row;<br>            flex-wrap: wrap;<br>            justify-content: flex-start;<br>            width: 100%;<br>        }<br>        .wandb-col {<br>            display: flex;<br>            flex-direction: column;<br>            flex-basis: 100%;<br>            flex: 1;<br>            padding: 10px;<br>        }<br>    </style><br><div class=\"wandb-row\"><div class=\"wandb-col\"><h3>Run summary:</h3><br/><table class=\"wandb\"><tr><td>max_cosine_distance</td><td>0.11545</td></tr><tr><td>max_rmsd</td><td>11.15817</td></tr><tr><td>mean_cosine_distance</td><td>0.04408</td></tr><tr><td>mean_rmsd</td><td>2.72149</td></tr><tr><td>median_cosine_distance</td><td>0.04168</td></tr><tr><td>median_rmsd</td><td>1.79351</td></tr><tr><td>min_cosine_distance</td><td>0.01398</td></tr><tr><td>min_rmsd</td><td>0.22403</td></tr><tr><td>pearson_correlation</td><td>0.32309</td></tr><tr><td>spearman_correlation</td><td>0.34942</td></tr><tr><td>std_rmsd</td><td>2.6207</td></tr></table><br/></div></div>"
            ]
          },
          "metadata": {}
        },
        {
          "output_type": "display_data",
          "data": {
            "text/plain": [
              "<IPython.core.display.HTML object>"
            ],
            "text/html": [
              " View run <strong style=\"color:#cdcd00\">silver-pine-28</strong> at: <a href='https://wandb.ai/dinakogan90-university-of-haifa/DFold/runs/hq0gvwyr' target=\"_blank\">https://wandb.ai/dinakogan90-university-of-haifa/DFold/runs/hq0gvwyr</a><br> View project at: <a href='https://wandb.ai/dinakogan90-university-of-haifa/DFold' target=\"_blank\">https://wandb.ai/dinakogan90-university-of-haifa/DFold</a><br>Synced 5 W&B file(s), 0 media file(s), 6 artifact file(s) and 422 other file(s)"
            ]
          },
          "metadata": {}
        },
        {
          "output_type": "display_data",
          "data": {
            "text/plain": [
              "<IPython.core.display.HTML object>"
            ],
            "text/html": [
              "Find logs at: <code>./wandb/run-20250113_221704-hq0gvwyr/logs</code>"
            ]
          },
          "metadata": {}
        }
      ],
      "source": [
        "number_of_runs = 1\n",
        "for i in range(number_of_runs):\n",
        "    print(\"Run number: \", i)\n",
        "    mask_percantage = 0.1\n",
        "    wandb.init(project=\"DFold\", config={\"mask_percantage\": mask_percantage})\n",
        "    cache_path = 'protein_chains.pkl'\n",
        "    protein_chains = load_protein_chains(cache_path)\n",
        "    rmsd_results = []\n",
        "    ids = df['id'].to_list()\n",
        "    all_sequence_embeddings = []\n",
        "    all_structure_embeddings = []\n",
        "    all_priors = []\n",
        "    labels = []\n",
        "    open_or_closed_gt = []\n",
        "    open_or_closed_pred = []\n",
        "    seq_identities = []\n",
        "    seq_similarities = []\n",
        "    norm_seq_similarities = []\n",
        "    for protein_chain,id in zip(protein_chains, ids):\n",
        "        print(\"id\", id)\n",
        "        #print(\"Protein sequence length: {}\".format(len(protein_chain)))\n",
        "        #print(\"Sequence: {}\".format(protein_chain.sequence))\n",
        "\n",
        "        # View loaded protein chain\n",
        "        #print(\"Loaded protein:\")\n",
        "        view_protein_chain(protein_chain, id)\n",
        "        masked_protein, mask_pos = create_masked_protein_chain(protein_chain, mask_percent=mask_percantage)\n",
        "\n",
        "        gt_resi_start, gt_resi_mask_start, gt_resi_end = calc_resi_pos(protein_chain, mask_percantage)\n",
        "        gt_inds = np.arange(gt_resi_start-1, gt_resi_mask_start-1)\n",
        "        gt_masked_inds = np.arange(gt_resi_mask_start-1, gt_resi_end-1)\n",
        "\n",
        "        # View masked protein\n",
        "        #print(\"Masked protein:\")\n",
        "        pdb_str = protein_chain.to_pdb_string()\n",
        "        view_masked_protein_chain(gt_inds, pdb_str, id)\n",
        "\n",
        "        # get generation configs\n",
        "        sequence_generation_config, structure_prediction_config = getGenerationConfigs(masked_protein)\n",
        "\n",
        "        # add to wandb config\n",
        "        wandb.config.update({\n",
        "            \"sequence_num_steps\": sequence_generation_config.num_steps,\n",
        "            \"sequence_temperature\": sequence_generation_config.temperature,\n",
        "            \"sequence_top_p\": sequence_generation_config.top_p,\n",
        "            \"sequence_schedule\": sequence_generation_config.schedule,\n",
        "            \"structure_num_steps\": structure_prediction_config.num_steps,\n",
        "            \"structure_temperature\": structure_prediction_config.temperature,\n",
        "            \"structure_top_p\": structure_prediction_config.top_p,\n",
        "            \"structure_schedule\": structure_prediction_config.schedule\n",
        "        })\n",
        "\n",
        "        # get the prior\n",
        "        prior_sequence = protein_chain.sequence\n",
        "\n",
        "        # Use ESM3 to predict protein structure of the masked protein\n",
        "        structure_prediction, sequence_embeddings, structure_embeddings, prior_embeddings = predict(masked_protein, prior_sequence, sequence_generation_config, structure_prediction_config)\n",
        "\n",
        "        labels.extend([id])\n",
        "        # Convert the structure prediction to a ProteinChain object\n",
        "        structure_prediction_chain = structure_prediction.to_protein_chain()\n",
        "\n",
        "        pred_resi_start, pred_resi_mask_start, pred_resi_end = calc_resi_pos(structure_prediction_chain, mask_percantage)\n",
        "        pred_inds = np.arange(pred_resi_start-1, pred_resi_mask_start-1)\n",
        "        pred_masked_inds = np.arange(pred_resi_mask_start-1, pred_resi_end-1)\n",
        "\n",
        "        # Align the generated structure with the original structure using the non-masked sequence\n",
        "        aligned_chain = structure_prediction_chain.align(\n",
        "            protein_chain, mobile_inds=pred_inds, target_inds=pred_inds)\n",
        "\n",
        "        # View aligned structures\n",
        "        pdb1 = protein_chain.to_pdb_string()\n",
        "        pdb2 = aligned_chain.to_pdb_string()\n",
        "        view_aligned_structures(pdb1, pdb2, gt_inds, pred_inds, id)\n",
        "\n",
        "        # Calculate RMSD on the masked part\n",
        "        view_side_by_side_structures(pdb1, pdb2, gt_inds, pred_inds, id)\n",
        "        crmsd_masked = aligned_chain.rmsd(protein_chain, mobile_inds=pred_masked_inds,\n",
        "                                        target_inds=pred_masked_inds, only_compute_backbone_rmsd=True)\n",
        "        # print(\"RMSD: \", crmsd_masked)\n",
        "\n",
        "        # Calculate sequence identity\n",
        "        sequence_identity = calc_seq_identity(protein_chain.sequence[pred_masked_inds[0]:],\n",
        "                                              aligned_chain.sequence[pred_masked_inds[0]:])\n",
        "        # print(\"Sequence identity: \", sequence_identity)\n",
        "\n",
        "        # Calculate sequence similarity (using BLOSUM62)\n",
        "        seq_similarity, norm_seq_similarity = calc_seq_similarity(protein_chain.sequence[pred_masked_inds[0]:],\n",
        "                                                                  aligned_chain.sequence[pred_masked_inds[0]:])\n",
        "        # print(\"Sequence similarity: \", seq_similarity)\n",
        "        # print(\"Normalized sequence similarity: \", norm_seq_similarity)\n",
        "\n",
        "        open_or_closed_gt.append(is_closed_protein(protein_chain))\n",
        "        open_or_closed_pred.append(is_closed_protein(structure_prediction_chain))\n",
        "        rmsd_results.append(crmsd_masked)\n",
        "        all_sequence_embeddings.append(sequence_embeddings)\n",
        "        all_structure_embeddings.append(structure_embeddings)\n",
        "        all_priors.append(prior_embeddings)\n",
        "        seq_identities.append(sequence_identity)\n",
        "        seq_similarities.append(seq_similarity)\n",
        "        norm_seq_similarities.append(norm_seq_similarity)\n",
        "        del aligned_chain, structure_prediction_chain, protein_chain\n",
        "\n",
        "    df['rmsd'] = rmsd_results\n",
        "    df['seq_identity'] = seq_identities\n",
        "    df['seq_similarity'] = seq_similarities\n",
        "    df['norm_seq_similarity'] = norm_seq_similarities\n",
        "\n",
        "    # Calculate corrolation between sequence length and RSMD\n",
        "    correlations = calculate_correlation(df['seq_len'], rmsd_results)\n",
        "\n",
        "    all_sequence_embeddings = torch.stack(all_sequence_embeddings).detach().cpu().numpy()\n",
        "    all_structure_embeddings = torch.stack(all_structure_embeddings).detach().cpu().numpy()\n",
        "    all_priors = torch.stack(all_priors).detach().cpu().numpy()\n",
        "\n",
        "    wand_logs(df, all_sequence_embeddings, all_structure_embeddings, all_priors, labels, open_or_closed_gt, open_or_closed_pred, correlations)\n",
        "    wandb.finish()\n",
        "\n",
        "    #df.to_csv('OMBB_data_crmsd.csv', index=False)\n",
        "\n",
        "\n"
      ]
    }
  ],
  "metadata": {
    "accelerator": "GPU",
    "colab": {
      "gpuType": "A100",
      "provenance": [],
      "machine_shape": "hm"
    },
    "kernelspec": {
      "display_name": "Python 3",
      "name": "python3"
    },
    "language_info": {
      "codemirror_mode": {
        "name": "ipython",
        "version": 3
      },
      "file_extension": ".py",
      "mimetype": "text/x-python",
      "name": "python",
      "nbconvert_exporter": "python",
      "pygments_lexer": "ipython3",
      "version": "3.11.5"
    },
    "widgets": {
      "application/vnd.jupyter.widget-state+json": {
        "bfe086d27bbd4b83b3dfa3837eef5fe2": {
          "model_module": "@jupyter-widgets/controls",
          "model_name": "VBoxModel",
          "model_module_version": "1.5.0",
          "state": {
            "_dom_classes": [],
            "_model_module": "@jupyter-widgets/controls",
            "_model_module_version": "1.5.0",
            "_model_name": "VBoxModel",
            "_view_count": null,
            "_view_module": "@jupyter-widgets/controls",
            "_view_module_version": "1.5.0",
            "_view_name": "VBoxView",
            "box_style": "",
            "children": [
              "IPY_MODEL_149f2cafb1434f57b23c917946426054",
              "IPY_MODEL_5aba75b69571438092079bdd99350f9e",
              "IPY_MODEL_309d1ff143a343e4b657b950952bcdc2",
              "IPY_MODEL_81bb0d3fcabb40b482e631c48e06dbc5",
              "IPY_MODEL_ab008e87cb9a424bbe1825c958053dba"
            ],
            "layout": "IPY_MODEL_fd57d5826d244baf921050f404ca41c5"
          }
        },
        "149f2cafb1434f57b23c917946426054": {
          "model_module": "@jupyter-widgets/controls",
          "model_name": "HTMLModel",
          "model_module_version": "1.5.0",
          "state": {
            "_dom_classes": [],
            "_model_module": "@jupyter-widgets/controls",
            "_model_module_version": "1.5.0",
            "_model_name": "HTMLModel",
            "_view_count": null,
            "_view_module": "@jupyter-widgets/controls",
            "_view_module_version": "1.5.0",
            "_view_name": "HTMLView",
            "description": "",
            "description_tooltip": null,
            "layout": "IPY_MODEL_e7d248a3e8e440bb8cb6d62543435781",
            "placeholder": "​",
            "style": "IPY_MODEL_d437b8c103134f6e9dfed0a1d23d5a2b",
            "value": "<center> <img\nsrc=https://huggingface.co/front/assets/huggingface_logo-noborder.svg\nalt='Hugging Face'> <br> Copy a token from <a\nhref=\"https://huggingface.co/settings/tokens\" target=\"_blank\">your Hugging Face\ntokens page</a> and paste it below. <br> Immediately click login after copying\nyour token or it might be stored in plain text in this notebook file. </center>"
          }
        },
        "5aba75b69571438092079bdd99350f9e": {
          "model_module": "@jupyter-widgets/controls",
          "model_name": "PasswordModel",
          "model_module_version": "1.5.0",
          "state": {
            "_dom_classes": [],
            "_model_module": "@jupyter-widgets/controls",
            "_model_module_version": "1.5.0",
            "_model_name": "PasswordModel",
            "_view_count": null,
            "_view_module": "@jupyter-widgets/controls",
            "_view_module_version": "1.5.0",
            "_view_name": "PasswordView",
            "continuous_update": true,
            "description": "Token:",
            "description_tooltip": null,
            "disabled": false,
            "layout": "IPY_MODEL_4944fd3f33834091973c30c570fd5eac",
            "placeholder": "​",
            "style": "IPY_MODEL_fe52763e7df346efbc92f24ab2ab71b7",
            "value": ""
          }
        },
        "309d1ff143a343e4b657b950952bcdc2": {
          "model_module": "@jupyter-widgets/controls",
          "model_name": "CheckboxModel",
          "model_module_version": "1.5.0",
          "state": {
            "_dom_classes": [],
            "_model_module": "@jupyter-widgets/controls",
            "_model_module_version": "1.5.0",
            "_model_name": "CheckboxModel",
            "_view_count": null,
            "_view_module": "@jupyter-widgets/controls",
            "_view_module_version": "1.5.0",
            "_view_name": "CheckboxView",
            "description": "Add token as git credential?",
            "description_tooltip": null,
            "disabled": false,
            "indent": true,
            "layout": "IPY_MODEL_44415e0545464dbaa2ab2b60f6c3181d",
            "style": "IPY_MODEL_44e2a86f85764847b6747e684f919713",
            "value": true
          }
        },
        "81bb0d3fcabb40b482e631c48e06dbc5": {
          "model_module": "@jupyter-widgets/controls",
          "model_name": "ButtonModel",
          "model_module_version": "1.5.0",
          "state": {
            "_dom_classes": [],
            "_model_module": "@jupyter-widgets/controls",
            "_model_module_version": "1.5.0",
            "_model_name": "ButtonModel",
            "_view_count": null,
            "_view_module": "@jupyter-widgets/controls",
            "_view_module_version": "1.5.0",
            "_view_name": "ButtonView",
            "button_style": "",
            "description": "Login",
            "disabled": false,
            "icon": "",
            "layout": "IPY_MODEL_ddb803a728af4a56b9ed90d656404604",
            "style": "IPY_MODEL_2288ea3542504f24b7ddc02cb2fc51c4",
            "tooltip": ""
          }
        },
        "ab008e87cb9a424bbe1825c958053dba": {
          "model_module": "@jupyter-widgets/controls",
          "model_name": "HTMLModel",
          "model_module_version": "1.5.0",
          "state": {
            "_dom_classes": [],
            "_model_module": "@jupyter-widgets/controls",
            "_model_module_version": "1.5.0",
            "_model_name": "HTMLModel",
            "_view_count": null,
            "_view_module": "@jupyter-widgets/controls",
            "_view_module_version": "1.5.0",
            "_view_name": "HTMLView",
            "description": "",
            "description_tooltip": null,
            "layout": "IPY_MODEL_9bfd0fa627154648a787780634369731",
            "placeholder": "​",
            "style": "IPY_MODEL_624d4196216d4a21af4d01f304544fea",
            "value": "\n<b>Pro Tip:</b> If you don't already have one, you can create a dedicated\n'notebooks' token with 'write' access, that you can then easily reuse for all\nnotebooks. </center>"
          }
        },
        "fd57d5826d244baf921050f404ca41c5": {
          "model_module": "@jupyter-widgets/base",
          "model_name": "LayoutModel",
          "model_module_version": "1.2.0",
          "state": {
            "_model_module": "@jupyter-widgets/base",
            "_model_module_version": "1.2.0",
            "_model_name": "LayoutModel",
            "_view_count": null,
            "_view_module": "@jupyter-widgets/base",
            "_view_module_version": "1.2.0",
            "_view_name": "LayoutView",
            "align_content": null,
            "align_items": "center",
            "align_self": null,
            "border": null,
            "bottom": null,
            "display": "flex",
            "flex": null,
            "flex_flow": "column",
            "grid_area": null,
            "grid_auto_columns": null,
            "grid_auto_flow": null,
            "grid_auto_rows": null,
            "grid_column": null,
            "grid_gap": null,
            "grid_row": null,
            "grid_template_areas": null,
            "grid_template_columns": null,
            "grid_template_rows": null,
            "height": null,
            "justify_content": null,
            "justify_items": null,
            "left": null,
            "margin": null,
            "max_height": null,
            "max_width": null,
            "min_height": null,
            "min_width": null,
            "object_fit": null,
            "object_position": null,
            "order": null,
            "overflow": null,
            "overflow_x": null,
            "overflow_y": null,
            "padding": null,
            "right": null,
            "top": null,
            "visibility": null,
            "width": "50%"
          }
        },
        "e7d248a3e8e440bb8cb6d62543435781": {
          "model_module": "@jupyter-widgets/base",
          "model_name": "LayoutModel",
          "model_module_version": "1.2.0",
          "state": {
            "_model_module": "@jupyter-widgets/base",
            "_model_module_version": "1.2.0",
            "_model_name": "LayoutModel",
            "_view_count": null,
            "_view_module": "@jupyter-widgets/base",
            "_view_module_version": "1.2.0",
            "_view_name": "LayoutView",
            "align_content": null,
            "align_items": null,
            "align_self": null,
            "border": null,
            "bottom": null,
            "display": null,
            "flex": null,
            "flex_flow": null,
            "grid_area": null,
            "grid_auto_columns": null,
            "grid_auto_flow": null,
            "grid_auto_rows": null,
            "grid_column": null,
            "grid_gap": null,
            "grid_row": null,
            "grid_template_areas": null,
            "grid_template_columns": null,
            "grid_template_rows": null,
            "height": null,
            "justify_content": null,
            "justify_items": null,
            "left": null,
            "margin": null,
            "max_height": null,
            "max_width": null,
            "min_height": null,
            "min_width": null,
            "object_fit": null,
            "object_position": null,
            "order": null,
            "overflow": null,
            "overflow_x": null,
            "overflow_y": null,
            "padding": null,
            "right": null,
            "top": null,
            "visibility": null,
            "width": null
          }
        },
        "d437b8c103134f6e9dfed0a1d23d5a2b": {
          "model_module": "@jupyter-widgets/controls",
          "model_name": "DescriptionStyleModel",
          "model_module_version": "1.5.0",
          "state": {
            "_model_module": "@jupyter-widgets/controls",
            "_model_module_version": "1.5.0",
            "_model_name": "DescriptionStyleModel",
            "_view_count": null,
            "_view_module": "@jupyter-widgets/base",
            "_view_module_version": "1.2.0",
            "_view_name": "StyleView",
            "description_width": ""
          }
        },
        "4944fd3f33834091973c30c570fd5eac": {
          "model_module": "@jupyter-widgets/base",
          "model_name": "LayoutModel",
          "model_module_version": "1.2.0",
          "state": {
            "_model_module": "@jupyter-widgets/base",
            "_model_module_version": "1.2.0",
            "_model_name": "LayoutModel",
            "_view_count": null,
            "_view_module": "@jupyter-widgets/base",
            "_view_module_version": "1.2.0",
            "_view_name": "LayoutView",
            "align_content": null,
            "align_items": null,
            "align_self": null,
            "border": null,
            "bottom": null,
            "display": null,
            "flex": null,
            "flex_flow": null,
            "grid_area": null,
            "grid_auto_columns": null,
            "grid_auto_flow": null,
            "grid_auto_rows": null,
            "grid_column": null,
            "grid_gap": null,
            "grid_row": null,
            "grid_template_areas": null,
            "grid_template_columns": null,
            "grid_template_rows": null,
            "height": null,
            "justify_content": null,
            "justify_items": null,
            "left": null,
            "margin": null,
            "max_height": null,
            "max_width": null,
            "min_height": null,
            "min_width": null,
            "object_fit": null,
            "object_position": null,
            "order": null,
            "overflow": null,
            "overflow_x": null,
            "overflow_y": null,
            "padding": null,
            "right": null,
            "top": null,
            "visibility": null,
            "width": null
          }
        },
        "fe52763e7df346efbc92f24ab2ab71b7": {
          "model_module": "@jupyter-widgets/controls",
          "model_name": "DescriptionStyleModel",
          "model_module_version": "1.5.0",
          "state": {
            "_model_module": "@jupyter-widgets/controls",
            "_model_module_version": "1.5.0",
            "_model_name": "DescriptionStyleModel",
            "_view_count": null,
            "_view_module": "@jupyter-widgets/base",
            "_view_module_version": "1.2.0",
            "_view_name": "StyleView",
            "description_width": ""
          }
        },
        "44415e0545464dbaa2ab2b60f6c3181d": {
          "model_module": "@jupyter-widgets/base",
          "model_name": "LayoutModel",
          "model_module_version": "1.2.0",
          "state": {
            "_model_module": "@jupyter-widgets/base",
            "_model_module_version": "1.2.0",
            "_model_name": "LayoutModel",
            "_view_count": null,
            "_view_module": "@jupyter-widgets/base",
            "_view_module_version": "1.2.0",
            "_view_name": "LayoutView",
            "align_content": null,
            "align_items": null,
            "align_self": null,
            "border": null,
            "bottom": null,
            "display": null,
            "flex": null,
            "flex_flow": null,
            "grid_area": null,
            "grid_auto_columns": null,
            "grid_auto_flow": null,
            "grid_auto_rows": null,
            "grid_column": null,
            "grid_gap": null,
            "grid_row": null,
            "grid_template_areas": null,
            "grid_template_columns": null,
            "grid_template_rows": null,
            "height": null,
            "justify_content": null,
            "justify_items": null,
            "left": null,
            "margin": null,
            "max_height": null,
            "max_width": null,
            "min_height": null,
            "min_width": null,
            "object_fit": null,
            "object_position": null,
            "order": null,
            "overflow": null,
            "overflow_x": null,
            "overflow_y": null,
            "padding": null,
            "right": null,
            "top": null,
            "visibility": null,
            "width": null
          }
        },
        "44e2a86f85764847b6747e684f919713": {
          "model_module": "@jupyter-widgets/controls",
          "model_name": "DescriptionStyleModel",
          "model_module_version": "1.5.0",
          "state": {
            "_model_module": "@jupyter-widgets/controls",
            "_model_module_version": "1.5.0",
            "_model_name": "DescriptionStyleModel",
            "_view_count": null,
            "_view_module": "@jupyter-widgets/base",
            "_view_module_version": "1.2.0",
            "_view_name": "StyleView",
            "description_width": ""
          }
        },
        "ddb803a728af4a56b9ed90d656404604": {
          "model_module": "@jupyter-widgets/base",
          "model_name": "LayoutModel",
          "model_module_version": "1.2.0",
          "state": {
            "_model_module": "@jupyter-widgets/base",
            "_model_module_version": "1.2.0",
            "_model_name": "LayoutModel",
            "_view_count": null,
            "_view_module": "@jupyter-widgets/base",
            "_view_module_version": "1.2.0",
            "_view_name": "LayoutView",
            "align_content": null,
            "align_items": null,
            "align_self": null,
            "border": null,
            "bottom": null,
            "display": null,
            "flex": null,
            "flex_flow": null,
            "grid_area": null,
            "grid_auto_columns": null,
            "grid_auto_flow": null,
            "grid_auto_rows": null,
            "grid_column": null,
            "grid_gap": null,
            "grid_row": null,
            "grid_template_areas": null,
            "grid_template_columns": null,
            "grid_template_rows": null,
            "height": null,
            "justify_content": null,
            "justify_items": null,
            "left": null,
            "margin": null,
            "max_height": null,
            "max_width": null,
            "min_height": null,
            "min_width": null,
            "object_fit": null,
            "object_position": null,
            "order": null,
            "overflow": null,
            "overflow_x": null,
            "overflow_y": null,
            "padding": null,
            "right": null,
            "top": null,
            "visibility": null,
            "width": null
          }
        },
        "2288ea3542504f24b7ddc02cb2fc51c4": {
          "model_module": "@jupyter-widgets/controls",
          "model_name": "ButtonStyleModel",
          "model_module_version": "1.5.0",
          "state": {
            "_model_module": "@jupyter-widgets/controls",
            "_model_module_version": "1.5.0",
            "_model_name": "ButtonStyleModel",
            "_view_count": null,
            "_view_module": "@jupyter-widgets/base",
            "_view_module_version": "1.2.0",
            "_view_name": "StyleView",
            "button_color": null,
            "font_weight": ""
          }
        },
        "9bfd0fa627154648a787780634369731": {
          "model_module": "@jupyter-widgets/base",
          "model_name": "LayoutModel",
          "model_module_version": "1.2.0",
          "state": {
            "_model_module": "@jupyter-widgets/base",
            "_model_module_version": "1.2.0",
            "_model_name": "LayoutModel",
            "_view_count": null,
            "_view_module": "@jupyter-widgets/base",
            "_view_module_version": "1.2.0",
            "_view_name": "LayoutView",
            "align_content": null,
            "align_items": null,
            "align_self": null,
            "border": null,
            "bottom": null,
            "display": null,
            "flex": null,
            "flex_flow": null,
            "grid_area": null,
            "grid_auto_columns": null,
            "grid_auto_flow": null,
            "grid_auto_rows": null,
            "grid_column": null,
            "grid_gap": null,
            "grid_row": null,
            "grid_template_areas": null,
            "grid_template_columns": null,
            "grid_template_rows": null,
            "height": null,
            "justify_content": null,
            "justify_items": null,
            "left": null,
            "margin": null,
            "max_height": null,
            "max_width": null,
            "min_height": null,
            "min_width": null,
            "object_fit": null,
            "object_position": null,
            "order": null,
            "overflow": null,
            "overflow_x": null,
            "overflow_y": null,
            "padding": null,
            "right": null,
            "top": null,
            "visibility": null,
            "width": null
          }
        },
        "624d4196216d4a21af4d01f304544fea": {
          "model_module": "@jupyter-widgets/controls",
          "model_name": "DescriptionStyleModel",
          "model_module_version": "1.5.0",
          "state": {
            "_model_module": "@jupyter-widgets/controls",
            "_model_module_version": "1.5.0",
            "_model_name": "DescriptionStyleModel",
            "_view_count": null,
            "_view_module": "@jupyter-widgets/base",
            "_view_module_version": "1.2.0",
            "_view_name": "StyleView",
            "description_width": ""
          }
        }
      }
    }
  },
  "nbformat": 4,
  "nbformat_minor": 0
}