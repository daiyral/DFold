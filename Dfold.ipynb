{
 "cells": [
  {
   "cell_type": "code",
   "execution_count": 3,
   "metadata": {
    "colab": {
     "base_uri": "https://localhost:8080/"
    },
    "id": "w8Vh4bVIgUBh",
    "outputId": "927b69f3-35bf-445a-e936-113193a92780"
   },
   "outputs": [],
   "source": [
    "# !pip install git+https://github.com/evolutionaryscale/esm\n",
    "# !pip install py3Dmol"
   ]
  },
  {
   "cell_type": "code",
   "execution_count": 4,
   "metadata": {
    "colab": {
     "base_uri": "https://localhost:8080/",
     "height": 17,
     "referenced_widgets": [
      "b501805698a043f68db5d11fa0b517f1",
      "9c23a838b7394a85b4f2cebabde887bb",
      "a8d69f10bc3e4be4970b5f734d349435",
      "70b1c81769f54978b25af68bb868ef3f",
      "3996e301af594bd5b8cbd2202c305b5d",
      "fc0ba626039341a8946e91770fb227ee",
      "f43613340e66432cbb22c6e81533c1af",
      "446dbb182efa4c1182021c90fe5b5253",
      "2a49d460a309436f910f4226ae97135b",
      "e4763313345f4886803fd368a71fd367",
      "7029e2cbd73f4c94a64dc62cd2caa0c4",
      "35a563d8861748a6a480e8a3d186b7f8",
      "89ac0bce1f9e4c1393013bd596afa244",
      "864101d86a8f4120b540e2c01b09ebc2",
      "1632fe4735af42c39d7bf0b36e54f5c7",
      "6898aad60f7743ae9ff642ef64089cd8",
      "a16e9a9f75404e64b2774ca53ba4015a",
      "85ed320755464471bdf50cee6420939f",
      "496a6e8328ef40a2b2f59e27ce0043b3",
      "b49b647b141f4b88b7e6b4222921b521"
     ]
    },
    "id": "8HQ2RXKdfp4q",
    "outputId": "f9a6df77-966b-46eb-dbe7-989292c2a501"
   },
   "outputs": [
    {
     "data": {
      "application/vnd.jupyter.widget-view+json": {
       "model_id": "2249abf8d16b4f55b66097b7dead81b0",
       "version_major": 2,
       "version_minor": 0
      },
      "text/plain": [
       "VBox(children=(HTML(value='<center> <img\\nsrc=https://huggingface.co/front/assets/huggingface_logo-noborder.sv…"
      ]
     },
     "metadata": {},
     "output_type": "display_data"
    }
   ],
   "source": [
    "import py3Dmol\n",
    "import numpy as np\n",
    "import torch\n",
    "import pandas as pd\n",
    "from tqdm import tqdm\n",
    "import pickle\n",
    "import os\n",
    "from esm.utils.structure.protein_chain import ProteinChain\n",
    "from esm.models.esm3 import ESM3\n",
    "from huggingface_hub import login\n",
    "from esm.sdk import client\n",
    "import requests\n",
    "from bs4 import BeautifulSoup\n",
    "from Bio.PDB import PDBParser, Superimposer, PDBIO, Structure\n",
    "import matplotlib.pyplot as plt\n",
    "from mpl_toolkits.mplot3d import Axes3D\n",
    "import wandb\n",
    "import tempfile\n",
    "import plotly.graph_objects as go\n",
    "from pathlib import Path\n",
    "from urllib.parse import urljoin\n",
    "from esm.sdk.api import (\n",
    "    ESM3InferenceClient,\n",
    "    ESMProtein,\n",
    "    GenerationConfig,\n",
    "    SamplingConfig\n",
    ")\n",
    "import umap\n",
    "# Will instruct you how to get an API key from huggingface hub, make one with \"Read\" permission.\n",
    "login()\n",
    "model: ESM3InferenceClient = ESM3.from_pretrained(\"esm3-open\").to(\"cuda\") # or \"cpu\"\n",
    "url = \"http://prodata.swmed.edu/ecod/af2_pdb/domain/\"\n"
   ]
  },
  {
   "cell_type": "code",
   "execution_count": 5,
   "metadata": {
    "colab": {
     "base_uri": "https://localhost:8080/",
     "height": 206
    },
    "id": "gfcuP5jafp4r",
    "outputId": "381a5f8e-bd5f-4f31-d560-712c1224bfb0"
   },
   "outputs": [
    {
     "data": {
      "text/html": [
       "<div>\n",
       "<style scoped>\n",
       "    .dataframe tbody tr th:only-of-type {\n",
       "        vertical-align: middle;\n",
       "    }\n",
       "\n",
       "    .dataframe tbody tr th {\n",
       "        vertical-align: top;\n",
       "    }\n",
       "\n",
       "    .dataframe thead th {\n",
       "        text-align: right;\n",
       "    }\n",
       "</style>\n",
       "<table border=\"1\" class=\"dataframe\">\n",
       "  <thead>\n",
       "    <tr style=\"text-align: right;\">\n",
       "      <th></th>\n",
       "      <th>id</th>\n",
       "      <th>strands</th>\n",
       "      <th>seq</th>\n",
       "      <th>seq_len</th>\n",
       "    </tr>\n",
       "  </thead>\n",
       "  <tbody>\n",
       "    <tr>\n",
       "      <th>0</th>\n",
       "      <td>e1af6A1</td>\n",
       "      <td>18</td>\n",
       "      <td>VDFHGYARSGIGWTGSGGEQQCFQTTGAQSKYRLGNECETYAELKL...</td>\n",
       "      <td>421</td>\n",
       "    </tr>\n",
       "    <tr>\n",
       "      <th>1</th>\n",
       "      <td>e1kmoA2</td>\n",
       "      <td>22</td>\n",
       "      <td>IPQDFGIEAGVEGQLSPTSSQNNPKETHNLMVGGTADNGFGTALLY...</td>\n",
       "      <td>523</td>\n",
       "    </tr>\n",
       "    <tr>\n",
       "      <th>2</th>\n",
       "      <td>e1p4tA1</td>\n",
       "      <td>8</td>\n",
       "      <td>EGASGFYVQADAAHAKASSSLGSAKGFSPRISAGYRINDLRFAVDY...</td>\n",
       "      <td>155</td>\n",
       "    </tr>\n",
       "    <tr>\n",
       "      <th>3</th>\n",
       "      <td>e1prnA1</td>\n",
       "      <td>16</td>\n",
       "      <td>EISLNGYGRFGLQYVEDRGVGLEDTIISSRLRINIVGTTETDQGVT...</td>\n",
       "      <td>289</td>\n",
       "    </tr>\n",
       "    <tr>\n",
       "      <th>4</th>\n",
       "      <td>e1qd5A1</td>\n",
       "      <td>12</td>\n",
       "      <td>AVRGSIIANMLQEHDNPFTLYPYDTNYLIYTQTSDLNKEAIASYDW...</td>\n",
       "      <td>257</td>\n",
       "    </tr>\n",
       "  </tbody>\n",
       "</table>\n",
       "</div>"
      ],
      "text/plain": [
       "        id  strands                                                seq  \\\n",
       "0  e1af6A1       18  VDFHGYARSGIGWTGSGGEQQCFQTTGAQSKYRLGNECETYAELKL...   \n",
       "1  e1kmoA2       22  IPQDFGIEAGVEGQLSPTSSQNNPKETHNLMVGGTADNGFGTALLY...   \n",
       "2  e1p4tA1        8  EGASGFYVQADAAHAKASSSLGSAKGFSPRISAGYRINDLRFAVDY...   \n",
       "3  e1prnA1       16  EISLNGYGRFGLQYVEDRGVGLEDTIISSRLRINIVGTTETDQGVT...   \n",
       "4  e1qd5A1       12  AVRGSIIANMLQEHDNPFTLYPYDTNYLIYTQTSDLNKEAIASYDW...   \n",
       "\n",
       "   seq_len  \n",
       "0      421  \n",
       "1      523  \n",
       "2      155  \n",
       "3      289  \n",
       "4      257  "
      ]
     },
     "execution_count": 5,
     "metadata": {},
     "output_type": "execute_result"
    }
   ],
   "source": [
    "df = pd.read_csv('OMBB_Small.csv')\n",
    "df.head()"
   ]
  },
  {
   "cell_type": "code",
   "execution_count": 6,
   "metadata": {
    "id": "B0JDqqxbfp4r"
   },
   "outputs": [],
   "source": [
    "def download_pdb_file(id, base_url, output_filename):\n",
    "    try:\n",
    "        # Request the page\n",
    "        response = requests.get(base_url + id)\n",
    "        response.raise_for_status()  # Raise HTTPError for bad responses\n",
    "        soup = BeautifulSoup(response.text, 'html.parser')\n",
    "\n",
    "        # Find the \"Coordinates\" link under \"Download files\"\n",
    "        link = soup.find('a', string=\"Coordinates\")\n",
    "        if link:\n",
    "            # Handle relative URL by combining with the base URL\n",
    "            href = urljoin(base_url, link['href'])\n",
    "            \n",
    "            # Download the file\n",
    "            coord_response = requests.get(href)\n",
    "            coord_response.raise_for_status()  # Raise HTTPError for bad responses\n",
    "            with open(output_filename, 'wb') as file:\n",
    "                file.write(coord_response.content)\n",
    "            print(f'Coordinates file downloaded successfully as {output_filename}')\n",
    "        else:\n",
    "            print(f'No Coordinates link found for {id}')\n",
    "    except Exception as e:\n",
    "        print(f'Error: {e}')\n",
    "\n"
   ]
  },
  {
   "cell_type": "code",
   "execution_count": 7,
   "metadata": {},
   "outputs": [],
   "source": [
    "def getPdbId(id, url):\n",
    "    try:\n",
    "        response = requests.get(url + id)\n",
    "        soup = BeautifulSoup(response.text, 'html.parser')\n",
    "        pdb_id = None\n",
    "        link = soup.find('a', title=\"Link to PDB\")\n",
    "        if link:\n",
    "            href = link['href']\n",
    "            pdb_id = href.split(\"structureId=\")[-1]\n",
    "        if pdb_id is None:\n",
    "            print(f'No PDB ID found for {id}')\n",
    "        return pdb_id\n",
    "    except Exception as e:\n",
    "        print(f'Error: {e}')\n",
    "        return None"
   ]
  },
  {
   "cell_type": "code",
   "execution_count": 8,
   "metadata": {
    "id": "Y2U_IFnNfp4s"
   },
   "outputs": [],
   "source": [
    "\n",
    "# error in files e2wjrA1, e3bryA1, e3qq2A1, e3sy7A2, e3szvA1, e4afkA1, e4c00A4, e4cu4A2, e4fqeA1, e4frxA1, e4fspA1, e4q35A2, e4rdrA2, e4rjwA1, e5dl5A1, e5fokA1, e5fp1A1, e5fq8B2, e5fr8A2, e5fvnA1,\n",
    "#e5ldvA1, e5m9bA1, e5mdoA1, e5o65A1, e5t3rD1, e6e4vA1, e6ehbA1, e6ehdA1, e6fokA1, e6gieA1, e6i96A1, e6r2qB1, e6sljA1, e6ucuA1, e6v81A2 \n",
    "\n",
    "def load_protein_chains(cache_path):\n",
    "    if os.path.exists(cache_path):\n",
    "        with open(cache_path, 'rb') as file:\n",
    "            protein_chains = pickle.load(file)\n",
    "        print(\"Loaded list\")\n",
    "    else:\n",
    "        protein_chains = []\n",
    "        for idx, row in tqdm(df.iterrows(), total=len(df), desc='Fetching ProteinChains'):\n",
    "            id = row['id']\n",
    "            path = f\"pdb_files/{id}.pdb\"\n",
    "            if not os.path.exists(path):\n",
    "                download_pdb_file(id, url, path)\n",
    "            try:\n",
    "                out_membraine_chain = ProteinChain.from_pdb(path)\n",
    "            except ValueError as e:\n",
    "                print(f\"ValueError while processing {id} at {path}: {e}\")\n",
    "                # Attempt to fetch the PDB from an alternative source if ValueError occurs\n",
    "                pdb_id = getPdbId(id, url)\n",
    "                out_membraine_chain = ProteinChain.from_rcsb(pdb_id)\n",
    "            except Exception as e:\n",
    "                print(f\"MAX ERROR!!!!. Error while processing {id} at {path}: {e}\")\n",
    "            protein_chains.append(out_membraine_chain)\n",
    "\n",
    "        with open(cache_path, 'wb') as file:\n",
    "            pickle.dump(protein_chains, file)\n",
    "        print(\"List saved successfully!\")\n",
    "\n",
    "    return protein_chains"
   ]
  },
  {
   "cell_type": "code",
   "execution_count": 9,
   "metadata": {},
   "outputs": [],
   "source": [
    "def log_py3Dmol_to_wandb(view, pdb_id):\n",
    "    temp_html_path = Path(\"temp_protein_view.html\")\n",
    "    \n",
    "    # Write HTML content using a file handle\n",
    "    with temp_html_path.open('w', encoding='utf-8') as f:\n",
    "        view.write_html(f, fullpage=True)\n",
    "   \n",
    "    # Read the HTML content\n",
    "    with temp_html_path.open('r', encoding='utf-8') as f:\n",
    "        html_content = f.read()\n",
    "        \n",
    "    # Log to W&B as HTML\n",
    "    wandb.log({\n",
    "        pdb_id: wandb.Html(html_content)\n",
    "    })\n",
    "   \n",
    "    # Clean up temporary file\n",
    "    temp_html_path.unlink()"
   ]
  },
  {
   "cell_type": "code",
   "execution_count": 10,
   "metadata": {
    "id": "F5JihyUpfp4s"
   },
   "outputs": [],
   "source": [
    "def view_protein_chain(protein_chain,id):\n",
    "  view = py3Dmol.view(width=500, height=500)\n",
    "\n",
    "  # py3Dmol requires the atomic coordinates to be in PDB format, so we convert the `ProteinChain` object to a PDB string\n",
    "  pdb_str = protein_chain.to_pdb_string()\n",
    "  # Load the PDB string into the `py3Dmol` view object\n",
    "  view.addModel(pdb_str, \"pdb\")\n",
    "  # Set the style of the protein chain\n",
    "  view.setStyle({\"cartoon\": {\"color\": \"spectrum\"}})\n",
    "  # Zoom in on the protein chain\n",
    "  view.zoomTo()\n",
    "  # Display the protein chain\n",
    "  #view.show()\n",
    "  log_py3Dmol_to_wandb(view, id)\n",
    "  "
   ]
  },
  {
   "cell_type": "code",
   "execution_count": 11,
   "metadata": {
    "id": "dR5bEv_7fp4s"
   },
   "outputs": [],
   "source": [
    "def create_masked_protein_chain(protein_chain, mask_percent=0.1):\n",
    "  mask_pos = int(len(protein_chain.sequence) * (1-mask_percent))\n",
    "  mask_amount = len(protein_chain.sequence) - mask_pos\n",
    "  # Create a mask for the sequence\n",
    "  #print(f\"Masking {mask_percent * 100}% ({mask_amount}) chars at the end of the sequence.\")\n",
    "  sequence_prompt = protein_chain.sequence[:mask_pos] + ''.join(['_'] * mask_amount)\n",
    "  #print(\"Sequence prompt:\", sequence_prompt)\n",
    "  return sequence_prompt, mask_pos"
   ]
  },
  {
   "cell_type": "code",
   "execution_count": 12,
   "metadata": {
    "id": "bwXgs0aVfp4s"
   },
   "outputs": [],
   "source": [
    "def view_masked_protein_chain(mask_pos, pdb_str, id):\n",
    "  view = py3Dmol.view(width=500, height=500)\n",
    "  inds = np.arange(0,mask_pos)\n",
    "  view.addModel(pdb_str, \"pdb\")\n",
    "  view.setStyle({\"cartoon\": {\"color\": \"lightgrey\"}})\n",
    "  motif_res_inds = (\n",
    "      inds + 1\n",
    "  ).tolist()  # residue indices are 1-indexed in PDB files, so we add 1 to the indices\n",
    "  view.addStyle({\"resi\": motif_res_inds}, {\"cartoon\": {\"color\": \"cyan\"}})\n",
    "  view.zoomTo()\n",
    "  #view.show()\n",
    "  log_py3Dmol_to_wandb(view, id)"
   ]
  },
  {
   "cell_type": "code",
   "execution_count": 13,
   "metadata": {
    "id": "GRZAS_Asfp4s"
   },
   "outputs": [],
   "source": [
    "def predict(sequence_prompt, sequence_generation_config, structure_prediction_config):\n",
    "  protein = ESMProtein(sequence=sequence_prompt)\n",
    "  # Now, we can use the `generate` method of the model to decode the sequence\n",
    "  sequence_generation = model.generate(protein, sequence_generation_config)\n",
    "  print(\"Sequence Prompt:\\n\\t\", protein.sequence)\n",
    "  print(\"Generated sequence:\\n\\t\", sequence_generation.sequence)\n",
    "  # gets embeddings for the sequence generation\n",
    "  protein_tensor_gen = model.encode(protein)\n",
    "  output_gen = model.forward_and_sample(\n",
    "      protein_tensor_gen, SamplingConfig(return_per_residue_embeddings=True)\n",
    "  )\n",
    "  embeddings_sequence_generation = output_gen.per_residue_embedding\n",
    "\n",
    "  # generate structure\n",
    "  structure_prediction_prompt = ESMProtein(sequence=sequence_generation.sequence)\n",
    "  structure_prediction = model.generate(\n",
    "      structure_prediction_prompt, structure_prediction_config\n",
    "  )\n",
    "  # get structure embeddings\n",
    "  protein_tensor_struct = model.encode(structure_prediction_prompt)\n",
    "  output_struct = model.forward_and_sample(\n",
    "      protein_tensor_struct, SamplingConfig(return_per_residue_embeddings=True)\n",
    "  )\n",
    "  embeddings_structure_prediction = output_struct.per_residue_embedding\n",
    "  \n",
    "  del structure_prediction_prompt\n",
    "  torch.cuda.empty_cache()\n",
    "  return structure_prediction, embeddings_sequence_generation, embeddings_structure_prediction"
   ]
  },
  {
   "cell_type": "code",
   "execution_count": 14,
   "metadata": {
    "id": "qHTwyPd7Q2-b"
   },
   "outputs": [],
   "source": [
    "def view_aligned_structures(pdb1, pdb2, inds, id):\n",
    "  # Display the aligned structures using py3Dmol\n",
    "  view = py3Dmol.view(width=1000, height=500)\n",
    "  view.addModel(pdb1, \"pdb\")\n",
    "  view.addModel(pdb2, \"pdb\")\n",
    "  view.setStyle({'model': 0}, {\"cartoon\": {\"color\": \"lightgrey\"}})\n",
    "  view.setStyle({'model': 1}, {\"cartoon\": {\"color\": \"lightgreen\"}})\n",
    "  view.addStyle(\n",
    "      {\"resi\": (inds + 1).tolist()},\n",
    "      {\"cartoon\": {\"color\": \"cyan\"}})\n",
    "  view.zoomTo()\n",
    "  #view.show()\n",
    "  log_py3Dmol_to_wandb(view, id)\n",
    "  "
   ]
  },
  {
   "cell_type": "code",
   "execution_count": 15,
   "metadata": {},
   "outputs": [],
   "source": [
    "def view_side_by_side_structures(pdb1, pdb2, motifInds, generatedInds, id):\n",
    "    # Display the side-by-side structures using py3Dmol\n",
    "    view = py3Dmol.view(width=1000, height=500, viewergrid=(1, 2))\n",
    "    view.addModel(pdb1, \"pdb\", viewer=(0, 0))\n",
    "    view.setStyle({\"cartoon\": {\"color\": \"lightgrey\"}}, viewer=(0, 0))\n",
    "    view.addStyle({\"resi\": (motifInds + 1).tolist()}, {\"cartoon\": {\"color\": \"cyan\"}}, viewer=(0, 0))\n",
    "    view.addModel(pdb2, \"pdb\", viewer=(0, 1))\n",
    "    view.setStyle({\"cartoon\": {\"color\": \"cyan\"}}, viewer=(0, 1))\n",
    "    view.addStyle({\"resi\": (generatedInds + 1).tolist()}, {\"cartoon\": {\"color\": \"lightgreen\"}}, viewer=(0, 1))\n",
    "    view.zoomTo()\n",
    "    #view.show()\n",
    "    log_py3Dmol_to_wandb(view, id)\n"
   ]
  },
  {
   "cell_type": "code",
   "execution_count": 16,
   "metadata": {},
   "outputs": [],
   "source": [
    "def getGenerationConfigs(sequence_prompt):\n",
    "    sequence_generation_config = GenerationConfig(\n",
    "        track=\"sequence\", \n",
    "        num_steps=sequence_prompt.count(\"_\")\n",
    "        // 4, \n",
    "        temperature=0.5,\n",
    "        top_p = 1,\n",
    "        schedule='cosine'\n",
    "    )\n",
    "    structure_prediction_config = GenerationConfig(\n",
    "        track=\"structure\", \n",
    "        num_steps=len(sequence_prompt) // 10,\n",
    "        temperature=0.7,\n",
    "        top_p = 1,\n",
    "        schedule='cosine'\n",
    "    )\n",
    "    return sequence_generation_config, structure_prediction_config"
   ]
  },
  {
   "cell_type": "code",
   "execution_count": 38,
   "metadata": {},
   "outputs": [],
   "source": [
    "def log_summary_statistics(rmsd_results):\n",
    "    mean = np.mean(rmsd_results)\n",
    "    std = np.std(rmsd_results)\n",
    "    min_val = np.min(rmsd_results)\n",
    "    max_val = np.max(rmsd_results)\n",
    "    median = np.median(rmsd_results)\n",
    "\n",
    "    wandb.run.summary.update({\n",
    "        \"mean_rmsd\": mean,\n",
    "        \"std_rmsd\": std,\n",
    "        \"min_rmsd\": min_val,\n",
    "        \"max_rmsd\": max_val,\n",
    "        \"median_rmsd\": median\n",
    "    })\n",
    "\n",
    "def log_histogram(rmsd_results):\n",
    "    fig = go.Figure(data=[go.Histogram(x=rmsd_results, nbinsx=30)])\n",
    "    with tempfile.NamedTemporaryFile(suffix='.html', delete=False) as tmp_file:\n",
    "        html_path = tmp_file.name\n",
    "        fig.write_html(html_path)\n",
    "        wandb.log({\"Histogram of rmsd values\": wandb.Html(html_path)})\n",
    "\n",
    "def log_scatter_plot(x, y, ids, x_title, y_title, plot_title, log_name):\n",
    "    fig = go.Figure(data=[go.Scatter(\n",
    "        x=x, \n",
    "        y=y, \n",
    "        mode='markers',\n",
    "        marker=dict(size=10, color=y, colorscale='Viridis', colorbar=dict(title='RMSD')),\n",
    "        text=ids\n",
    "    )])\n",
    "\n",
    "    fig.update_layout(\n",
    "        title=plot_title,\n",
    "        xaxis_title=x_title,\n",
    "        yaxis_title=y_title\n",
    "    )\n",
    "\n",
    "    with tempfile.NamedTemporaryFile(suffix='.html', delete=False) as tmp_file:\n",
    "        html_path = tmp_file.name\n",
    "        fig.write_html(html_path)\n",
    "        wandb.log({log_name: wandb.Html(html_path)})\n",
    "\n",
    "def log_umap_plot(embeddings, labels, plot_title, log_name):\n",
    "\n",
    "    traces = []\n",
    "    for unique_id in set(labels):\n",
    "        # Filter points for this specific ID\n",
    "        mask = [i for i, id_val in enumerate(labels) if id_val == unique_id]\n",
    "        \n",
    "        trace = go.Scatter(\n",
    "            x=embeddings[mask, 0],\n",
    "            y=embeddings[mask, 1],\n",
    "            mode='markers',\n",
    "            name=f'{unique_id}',\n",
    "            marker=dict(size=6),\n",
    "            text=[f'{labels[i]}' for i in mask], \n",
    "            hoverinfo='text'\n",
    "        )\n",
    "        traces.append(trace)\n",
    "   \n",
    "    fig = go.Figure(data=traces)\n",
    "   \n",
    "    fig.update_layout(\n",
    "        title=plot_title,\n",
    "        xaxis_title='UMAP Component 1',\n",
    "        yaxis_title='UMAP Component 2',\n",
    "        legend_title_text='Labels',\n",
    "        legend=dict(\n",
    "            yanchor=\"top\",\n",
    "            y=0.99,\n",
    "            xanchor=\"left\",\n",
    "            x=0.01,\n",
    "            font=dict(size=8),\n",
    "            itemsizing='constant',  \n",
    "            traceorder='grouped',  \n",
    "            itemwidth=30 \n",
    "        ),\n",
    "        legend_itemwidth=30 \n",
    "    )\n",
    "    \n",
    "    with tempfile.NamedTemporaryFile(suffix='.html', delete=False) as tmp_file:\n",
    "        html_path = tmp_file.name\n",
    "        fig.write_html(html_path)\n",
    "        wandb.log({log_name: wandb.Html(html_path)})\n",
    "\n",
    "def wand_logs(df, sequence_embeddings, structure_embeddings, labels):\n",
    "    rmsd_results = df['rmsd'].to_list()\n",
    "    ids = df['id'].to_list()\n",
    "    seq_len = df['seq_len'].to_list()\n",
    "    strands = df['strands'].to_list()\n",
    "\n",
    "    seq_len_per_embedding = []\n",
    "    strand_per_embedding = []\n",
    "    rmsd_per_embedding = []\n",
    "    for id in labels:\n",
    "        seq_length = df[df['id'] == id]['seq_len'].values[0]\n",
    "        strand_value = df[df['id'] == id]['strands'].values[0]\n",
    "        rmsd_value = df[df['id'] == id]['rmsd'].values[0]\n",
    "        seq_len_per_embedding.append(seq_length)\n",
    "        strand_per_embedding.append(strand_value)\n",
    "        rmsd_per_embedding.append(rmsd_value)\n",
    "\n",
    "\n",
    "    protein_metrics = list(zip(ids, rmsd_results, seq_len, strands))\n",
    "    wandb.log({\n",
    "        \"rmsd_results\": wandb.Table(\n",
    "            data=protein_metrics,\n",
    "            columns=[\"ID\", \"RMSD\", \"Sequence Length\", \"Strands\"]\n",
    "        )\n",
    "    })\n",
    "\n",
    "    log_histogram(rmsd_results)\n",
    "\n",
    "    log_scatter_plot(seq_len, rmsd_results, ids, \"Sequence Length\", \"RMSD Value\", \"RMSD Values by sequence length\", \"RMSD Scatter plot\")\n",
    "    log_scatter_plot(strands, rmsd_results, ids, \"Number of Strands\", \"RMSD Value\", \"RMSD Values by number of strands\", \"RMSD Scatter plot\")\n",
    "\n",
    "    sequence_reducer = umap.UMAP(n_components=2)\n",
    "    sequence_emb = sequence_reducer.fit_transform(sequence_embeddings)\n",
    "\n",
    "    structure_reducer = umap.UMAP(n_components=2)\n",
    "    structure_emb = structure_reducer.fit_transform(structure_embeddings)\n",
    "\n",
    "    log_umap_plot(sequence_emb, labels,  \"Protein Sequence Embeddings Colored By Id\", \"Embeddings Sequence\")\n",
    "    log_umap_plot(structure_emb, labels, \"Protein Structure Embeddings Colored By Id\", \"Embeddings Structure\")\n",
    "\n",
    "    log_umap_plot(sequence_emb, seq_len_per_embedding,  \"Protein Sequence Embedding Colored By Sequence Len\", \"Embeddings Sequence\")\n",
    "    log_umap_plot(sequence_emb, strand_per_embedding, \"Protein Sequence Embeddings Colored By Strands\", \"Embeddings Sequence\")\n",
    "\n",
    "    log_umap_plot(structure_emb, seq_len_per_embedding, \"Protein Structure Embeddings Colored By Sequence Len\", \"Embeddings Structure\")\n",
    "    log_umap_plot(structure_emb, strand_per_embedding, \"Protein Structure Embeddings Colored By Strands\", \"Embeddings Structure\")\n",
    "\n",
    "    log_umap_plot(sequence_emb, rmsd_per_embedding, \"Protein Sequence Embeddings Colored By RMSD\", \"Embeddings Sequence\")\n",
    "    log_umap_plot(structure_emb, rmsd_per_embedding, \"Protein Structure Embeddings Colored By RMSD\", \"Embeddings Structure\")\n",
    "\n",
    "    log_summary_statistics(rmsd_results)\n"
   ]
  },
  {
   "cell_type": "code",
   "execution_count": null,
   "metadata": {
    "colab": {
     "base_uri": "https://localhost:8080/",
     "height": 1000
    },
    "id": "vRTGyo2koGBE",
    "outputId": "0c8bf2fd-d3e0-466c-8983-5e0d77ae81f3"
   },
   "outputs": [
    {
     "data": {
      "text/html": [
       "wandb version 0.19.1 is available!  To upgrade, please run:\n",
       " $ pip install wandb --upgrade"
      ],
      "text/plain": [
       "<IPython.core.display.HTML object>"
      ]
     },
     "metadata": {},
     "output_type": "display_data"
    },
    {
     "data": {
      "text/html": [
       "Tracking run with wandb version 0.17.6"
      ],
      "text/plain": [
       "<IPython.core.display.HTML object>"
      ]
     },
     "metadata": {},
     "output_type": "display_data"
    },
    {
     "data": {
      "text/html": [
       "Run data is saved locally in <code>c:\\Users\\Danny\\Desktop\\School\\DFold\\wandb\\run-20241213_111044-v1kwnyl8</code>"
      ],
      "text/plain": [
       "<IPython.core.display.HTML object>"
      ]
     },
     "metadata": {},
     "output_type": "display_data"
    },
    {
     "data": {
      "text/html": [
       "Syncing run <strong><a href='https://wandb.ai/radiostars/DFold/runs/v1kwnyl8' target=\"_blank\">dandy-sun-49</a></strong> to <a href='https://wandb.ai/radiostars/DFold' target=\"_blank\">Weights & Biases</a> (<a href='https://wandb.me/run' target=\"_blank\">docs</a>)<br/>"
      ],
      "text/plain": [
       "<IPython.core.display.HTML object>"
      ]
     },
     "metadata": {},
     "output_type": "display_data"
    },
    {
     "data": {
      "text/html": [
       " View project at <a href='https://wandb.ai/radiostars/DFold' target=\"_blank\">https://wandb.ai/radiostars/DFold</a>"
      ],
      "text/plain": [
       "<IPython.core.display.HTML object>"
      ]
     },
     "metadata": {},
     "output_type": "display_data"
    },
    {
     "data": {
      "text/html": [
       " View run at <a href='https://wandb.ai/radiostars/DFold/runs/v1kwnyl8' target=\"_blank\">https://wandb.ai/radiostars/DFold/runs/v1kwnyl8</a>"
      ],
      "text/plain": [
       "<IPython.core.display.HTML object>"
      ]
     },
     "metadata": {},
     "output_type": "display_data"
    },
    {
     "name": "stdout",
     "output_type": "stream",
     "text": [
      "Loaded list\n",
      "id e1af6A1\n"
     ]
    },
    {
     "name": "stderr",
     "output_type": "stream",
     "text": [
      "100%|██████████| 10/10 [00:00<00:00, 12.88it/s]\n"
     ]
    },
    {
     "name": "stdout",
     "output_type": "stream",
     "text": [
      "Sequence Prompt:\n",
      "\t VDFHGYARSGIGWTGSGGEQQCFQTTGAQSKYRLGNECETYAELKLGQEVWKEGDKSFYFDTNVAYSVAQQNDWEATDPAFREANVQGKNLIEWLPGSTIWAGKRFYQRHDVHMIDFYYWDISGPGAGLENIDVGFGKLSLAATRSSEAGGSSSFASNNIYDYTNETANDVFDVRLAQMEINPGGTLELGVDYGRANLRDNYRLVDGASKDGWLFTAEHTQSVLKGFNKFVVQYATDSMTSQGKGLSQGSGVAFDNEKFAYNINNNGHMLRILDHGAISMGDNWDMMYVGMYQDINWDNDNGTKWWTVGIRPMYKWTPIMSTVMEIGYDNVESQRTGDKNNQYKITLAQQWQAGDSIWSRPAIRVFATYAKWDEKWGY___________________________________________\n",
      "Generated sequence:\n",
      "\t VDFHGYARSGIGWTGSGGEQQCFQTTGAQSKYRLGNECETYAELKLGQEVWKEGDKSFYFDTNVAYSVAQQNDWEATDPAFREANVQGKNLIEWLPGSTIWAGKRFYQRHDVHMIDFYYWDISGPGAGLENIDVGFGKLSLAATRSSEAGGSSSFASNNIYDYTNETANDVFDVRLAQMEINPGGTLELGVDYGRANLRDNYRLVDGASKDGWLFTAEHTQSVLKGFNKFVVQYATDSMTSQGKGLSQGSGVAFDNEKFAYNINNNGHMLRILDHGAISMGDNWDMMYVGMYQDINWDNDNGTKWWTVGIRPMYKWTPIMSTVMEIGYDNVESQRTGDKNNQYKITLAQQWQAGDSIWSRPAIRVFATYAKWDEKWGYNAGGGPSNGGSYGATAGNGGNGSGQYVDKNEAWTFGVQIEAWW\n"
     ]
    },
    {
     "name": "stderr",
     "output_type": "stream",
     "text": [
      "100%|██████████| 42/42 [00:02<00:00, 17.04it/s]\n"
     ]
    },
    {
     "name": "stdout",
     "output_type": "stream",
     "text": [
      "RMSD:  5.167429586678737\n",
      "id e1kmoA2\n"
     ]
    },
    {
     "name": "stderr",
     "output_type": "stream",
     "text": [
      "100%|██████████| 13/13 [00:00<00:00, 16.64it/s]\n"
     ]
    },
    {
     "name": "stdout",
     "output_type": "stream",
     "text": [
      "Sequence Prompt:\n",
      "\t IPQDFGIEAGVEGQLSPTSSQNNPKETHNLMVGGTADNGFGTALLYSGTRGSDWREHSATRIDDLMLKSKYAPDEVHTFNSLLQYYDGEADMPGGLSRADYDADRWQSTRPYDRFWGRRKLASLGYQFQPDSQHKFNIQGFYTQTLRSGYLEQGKRITLSPRNYWVRGIEPRYSQIFMIGPSAHEVGVGYRYLNESTHEMRYYTATSSGQLPSGSSPYDRDTRSGTEAHAWYLDDKIDIGNWTITPGMRFEHIESYQNNAITGTHEEVSYNAPLPALNVLYHLTDSWNLYANTEGSFGTVQYSQIGKAVQSGNVEPEKARTWELGTRYDDGALTAEMGLFLINFNNQYDSNQTNDTVTARGKTRHTGLETQARYDLGTLTPTLDNVSIYASYAYVNAEIREKGDTYGNLVPFSPKHKGTLGVDYKPGNWTFNLNSDFQSSQFADNANTVKESADGSTGRIPGFMLWGARV_____________________________________________________\n",
      "Generated sequence:\n",
      "\t IPQDFGIEAGVEGQLSPTSSQNNPKETHNLMVGGTADNGFGTALLYSGTRGSDWREHSATRIDDLMLKSKYAPDEVHTFNSLLQYYDGEADMPGGLSRADYDADRWQSTRPYDRFWGRRKLASLGYQFQPDSQHKFNIQGFYTQTLRSGYLEQGKRITLSPRNYWVRGIEPRYSQIFMIGPSAHEVGVGYRYLNESTHEMRYYTATSSGQLPSGSSPYDRDTRSGTEAHAWYLDDKIDIGNWTITPGMRFEHIESYQNNAITGTHEEVSYNAPLPALNVLYHLTDSWNLYANTEGSFGTVQYSQIGKAVQSGNVEPEKARTWELGTRYDDGALTAEMGLFLINFNNQYDSNQTNDTVTARGKTRHTGLETQARYDLGTLTPTLDNVSIYASYAYVNAEIREKGDTYGNLVPFSPKHKGTLGVDYKPGNWTFNLNSDFQSSQFADNANTVKESADGSTGRIPGFMLWGARVAYEQGNWTVYANLDYLDDEDYIAERTVFPGSSGGAGYYPGAPRTLTLGARYTF\n"
     ]
    },
    {
     "name": "stderr",
     "output_type": "stream",
     "text": [
      "100%|██████████| 52/52 [00:03<00:00, 16.16it/s]\n"
     ]
    },
    {
     "name": "stdout",
     "output_type": "stream",
     "text": [
      "RMSD:  3.7544779620132727\n",
      "id e1p4tA1\n"
     ]
    },
    {
     "name": "stderr",
     "output_type": "stream",
     "text": [
      "100%|██████████| 4/4 [00:00<00:00, 15.02it/s]\n"
     ]
    },
    {
     "name": "stdout",
     "output_type": "stream",
     "text": [
      "Sequence Prompt:\n",
      "\t EGASGFYVQADAAHAKASSSLGSAKGFSPRISAGYRINDLRFAVDYTRYKNYKAPSTDFKLYSIGASAIYDFDTQSPVKPYLGARLSLNRASVDLGGSDSFSQTSIGLGVLTGVSYAVTPNVDLDAGYRYNYIGKVNTV________________\n",
      "Generated sequence:\n",
      "\t EGASGFYVQADAAHAKASSSLGSAKGFSPRISAGYRINDLRFAVDYTRYKNYKAPSTDFKLYSIGASAIYDFDTQSPVKPYLGARLSLNRASVDLGGSDSFSQTSIGLGVLTGVSYAVTPNVDLDAGYRYNYIGKVNTVSVKSHNYSLGIRVRLF\n"
     ]
    },
    {
     "name": "stderr",
     "output_type": "stream",
     "text": [
      "100%|██████████| 15/15 [00:00<00:00, 16.10it/s]\n"
     ]
    },
    {
     "name": "stdout",
     "output_type": "stream",
     "text": [
      "RMSD:  0.9393385815575441\n",
      "id e1prnA1\n"
     ]
    },
    {
     "name": "stderr",
     "output_type": "stream",
     "text": [
      "100%|██████████| 7/7 [00:00<00:00, 15.45it/s]\n"
     ]
    },
    {
     "name": "stdout",
     "output_type": "stream",
     "text": [
      "Sequence Prompt:\n",
      "\t EISLNGYGRFGLQYVEDRGVGLEDTIISSRLRINIVGTTETDQGVTFGAKLRMQWDDGDAFAGTAGNAAQFWTSYNGVTVSVGNVDTAFDSVALTYDSEMGYEASSFGDAQSSFFAYNSKYDASGALDNYNGIAVTYSISGVNLYLSYVDPDQTVDSSLVTEEFGIAADWSNDMISLAAAYTTDAGGIVDNDIAFVGAAYKFNDAGTVGLNWYDNGLSTAGDQVTLYGNYAFGATTVRAYVSDIDRAGADTAYGIGADYQ_____________________________\n",
      "Generated sequence:\n",
      "\t EISLNGYGRFGLQYVEDRGVGLEDTIISSRLRINIVGTTETDQGVTFGAKLRMQWDDGDAFAGTAGNAAQFWTSYNGVTVSVGNVDTAFDSVALTYDSEMGYEASSFGDAQSSFFAYNSKYDASGALDNYNGIAVTYSISGVNLYLSYVDPDQTVDSSLVTEEFGIAADWSNDMISLAAAYTTDAGGIVDNDIAFVGAAYKFNDAGTVGLNWYDNGLSTAGDQVTLYGNYAFGATTVRAYVSDIDRAGADTAYGIGADYQLSKAALLYAEVGEDFDGNTVATAGMRFNF\n"
     ]
    },
    {
     "name": "stderr",
     "output_type": "stream",
     "text": [
      "100%|██████████| 28/28 [00:01<00:00, 18.02it/s]\n"
     ]
    },
    {
     "name": "stdout",
     "output_type": "stream",
     "text": [
      "RMSD:  0.5175686554503592\n",
      "id e1qd5A1\n"
     ]
    },
    {
     "name": "stderr",
     "output_type": "stream",
     "text": [
      "100%|██████████| 6/6 [00:00<00:00, 15.98it/s]\n"
     ]
    },
    {
     "name": "stdout",
     "output_type": "stream",
     "text": [
      "Sequence Prompt:\n",
      "\t AVRGSIIANMLQEHDNPFTLYPYDTNYLIYTQTSDLNKEAIASYDWAENARKDEVKFQLSLAFPLWRGILGPNSVLGASYTQKSWWQLSNSEESSPFRETNYEPQLFLGFATDYRFAGWTLRDVEMGYNHDSNGRSDPTSRSWNRLYTRLMAENGNWLVEVKPWYVVGNTDDNPDITKYMGYYQLKIGYHLGDAVLSAKGQYNWNTGYGGAELGLSYPITKHVRLYTQVYS__________________________\n",
      "Generated sequence:\n",
      "\t AVRGSIIANMLQEHDNPFTLYPYDTNYLIYTQTSDLNKEAIASYDWAENARKDEVKFQLSLAFPLWRGILGPNSVLGASYTQKSWWQLSNSEESSPFRETNYEPQLFLGFATDYRFAGWTLRDVEMGYNHDSNGRSDPTSRSWNRLYTRLMAENGNWLVEVKPWYVVGNTDDNPDITKYMGYYQLKIGYHLGDAVLSAKGQYNWNTGYGGAELGLSYPITKHVRLYTQVYSGYGESLIDYNYRQTRFGIGFAATDWL\n"
     ]
    },
    {
     "name": "stderr",
     "output_type": "stream",
     "text": [
      "100%|██████████| 25/25 [00:01<00:00, 18.02it/s]\n"
     ]
    },
    {
     "name": "stdout",
     "output_type": "stream",
     "text": [
      "RMSD:  1.5955694745301443\n",
      "id e1qj8A1\n"
     ]
    },
    {
     "name": "stderr",
     "output_type": "stream",
     "text": [
      "100%|██████████| 3/3 [00:00<00:00, 18.81it/s]\n"
     ]
    },
    {
     "name": "stdout",
     "output_type": "stream",
     "text": [
      "Sequence Prompt:\n",
      "\t ATSTVTGGYAQSDAQGQMNKMGGFNLKYRYEEDNSPLGVIGSFTYTEKSRTASSGDYNKNQYYGITAGPAYRINDWASIYGVVGVGYGKFQTTEYPTYKNDTSDYGFSYGAGLQFNPMENVALDFSYEQSRIR_______________\n",
      "Generated sequence:\n",
      "\t ATSTVTGGYAQSDAQGQMNKMGGFNLKYRYEEDNSPLGVIGSFTYTEKSRTASSGDYNKNQYYGITAGPAYRINDWASIYGVVGVGYGKFQTTEYPTYKNDTSDYGFSYGAGLQFNPMENVALDFSYEQSRIRGTAIDTFRATVGYKF\n"
     ]
    },
    {
     "name": "stderr",
     "output_type": "stream",
     "text": [
      "100%|██████████| 14/14 [00:00<00:00, 18.59it/s]\n"
     ]
    },
    {
     "name": "stdout",
     "output_type": "stream",
     "text": [
      "RMSD:  0.3094053123167537\n",
      "id e1qjpA1\n"
     ]
    },
    {
     "name": "stderr",
     "output_type": "stream",
     "text": [
      "100%|██████████| 3/3 [00:00<00:00, 18.18it/s]\n"
     ]
    },
    {
     "name": "stdout",
     "output_type": "stream",
     "text": [
      "Sequence Prompt:\n",
      "\t APKDNTWYTGAKLGWSQHENKLGAGAFGGYQVNPYVGFEMGYDWLGRMPYAYKAQGVQLTAKLGYPITDDLDIYTRLGGMVWRADTYSNVYGKNHDTGVSPVFAGGVEYAITPEIATRLEYQW______________\n",
      "Generated sequence:\n",
      "\t APKDNTWYTGAKLGWSQHENKLGAGAFGGYQVNPYVGFEMGYDWLGRMPYAYKAQGVQLTAKLGYPITDDLDIYTRLGGMVWRADTYSNVYGKNHDTGVSPVFAGGVEYAITPEIATRLEYQWYKVKDDGVNNSDGT\n"
     ]
    },
    {
     "name": "stderr",
     "output_type": "stream",
     "text": [
      "100%|██████████| 13/13 [00:00<00:00, 16.18it/s]\n"
     ]
    },
    {
     "name": "stdout",
     "output_type": "stream",
     "text": [
      "RMSD:  3.8278689171710587\n",
      "id e1t16A1\n"
     ]
    },
    {
     "name": "stderr",
     "output_type": "stream",
     "text": [
      "100%|██████████| 10/10 [00:00<00:00, 18.58it/s]\n"
     ]
    },
    {
     "name": "stdout",
     "output_type": "stream",
     "text": [
      "Sequence Prompt:\n",
      "\t AGFQLNEFSSSGLGRAYSGEGAIADDAGNVSRNPALITMFDRPTFSAGAVYIDPDVNISGTSPSGRSLKADNIAPTAWVPNMHFVAPINDQFGWGASITSNYGLATEFNDTYAGGSVGGTTDLETMNLNLSGAYRLNNAWSFGLGFNAVYARAKIERFAGDLGQLVAGQIMQSPAGQTQQGQALAATANGIDSNTKIAHLNGNQWGFGWNAGILYELDKNNRYALTYRSEVKIDFKGNYSSDLNRAFNNYGLPIPTATGGATQSGYLTLNLPEMWEVSGYNRVDPQWAIHYSLAYTSWSQFQQLKATSTSGDTLFQKHEGFKDAYRIALGTTYYYDDNWTFRTGIAFDDSPVPAQNRSISIPDQDRFWLSAGTTYAFNKDASVD___________________________________________\n",
      "Generated sequence:\n",
      "\t AGFQLNEFSSSGLGRAYSGEGAIADDAGNVSRNPALITMFDRPTFSAGAVYIDPDVNISGTSPSGRSLKADNIAPTAWVPNMHFVAPINDQFGWGASITSNYGLATEFNDTYAGGSVGGTTDLETMNLNLSGAYRLNNAWSFGLGFNAVYARAKIERFAGDLGQLVAGQIMQSPAGQTQQGQALAATANGIDSNTKIAHLNGNQWGFGWNAGILYELDKNNRYALTYRSEVKIDFKGNYSSDLNRAFNNYGLPIPTATGGATQSGYLTLNLPEMWEVSGYNRVDPQWAIHYSLAYTSWSQFQQLKATSTSGDTLFQKHEGFKDAYRIALGTTYYYDDNWTFRTGIAFDDSPVPAQNRSISIPDQDRFWLSAGTTYAFNKDASVDLAYSHLFVGDAPLDQGGDGNGGHVKGTAKSSVDLFGVQYNYQF\n"
     ]
    },
    {
     "name": "stderr",
     "output_type": "stream",
     "text": [
      "100%|██████████| 42/42 [00:02<00:00, 18.89it/s]\n"
     ]
    },
    {
     "name": "stdout",
     "output_type": "stream",
     "text": [
      "RMSD:  5.628108641637499\n",
      "id e1tlyA1\n"
     ]
    },
    {
     "name": "stderr",
     "output_type": "stream",
     "text": [
      "100%|██████████| 6/6 [00:00<00:00, 17.69it/s]\n"
     ]
    },
    {
     "name": "stdout",
     "output_type": "stream",
     "text": [
      "Sequence Prompt:\n",
      "\t LSDWWHQSVNVVGSYHTRFGPQIRNDTYLEYEAFAKKDWFDFYGYADAPVPLFMEIEPRFSIDKLTNTDLSFGPFKEWYFANNYIYDMGRNKDGRQSTWYMGLGTDIDTGLPMSLSMNVYAKYQWQNYGAANENEWDGYRFKIKYFVPITDLWGGQLSYIGFTNFDWGSDLGDDSGNAINGIKTRTNNSIASSHILALNYDHWHYSVVARYWHDGGQWNDDAELN__________________________\n",
      "Generated sequence:\n",
      "\t LSDWWHQSVNVVGSYHTRFGPQIRNDTYLEYEAFAKKDWFDFYGYADAPVPLFMEIEPRFSIDKLTNTDLSFGPFKEWYFANNYIYDMGRNKDGRQSTWYMGLGTDIDTGLPMSLSMNVYAKYQWQNYGAANENEWDGYRFKIKYFVPITDLWGGQLSYIGFTNFDWGSDLGDDSGNAINGIKTRTNNSIASSHILALNYDHWHYSVVARYWHDGGQWNDDAELNNGLNEHYVKLTSGFDFKDYGLRLLLR\n"
     ]
    },
    {
     "name": "stderr",
     "output_type": "stream",
     "text": [
      "100%|██████████| 25/25 [00:01<00:00, 18.62it/s]\n"
     ]
    },
    {
     "name": "stdout",
     "output_type": "stream",
     "text": [
      "RMSD:  3.905626995960378\n"
     ]
    },
    {
     "data": {
      "application/vnd.jupyter.widget-view+json": {
       "model_id": "6763a2b2c2f34ebeb30851fe5473263b",
       "version_major": 2,
       "version_minor": 0
      },
      "text/plain": [
       "VBox(children=(Label(value='56.212 MB of 56.212 MB uploaded\\r'), FloatProgress(value=1.0, max=1.0)))"
      ]
     },
     "metadata": {},
     "output_type": "display_data"
    },
    {
     "data": {
      "text/html": [
       "<style>\n",
       "    table.wandb td:nth-child(1) { padding: 0 10px; text-align: left ; width: auto;} td:nth-child(2) {text-align: left ; width: 100%}\n",
       "    .wandb-row { display: flex; flex-direction: row; flex-wrap: wrap; justify-content: flex-start; width: 100% }\n",
       "    .wandb-col { display: flex; flex-direction: column; flex-basis: 100%; flex: 1; padding: 10px; }\n",
       "    </style>\n",
       "<div class=\"wandb-row\"><div class=\"wandb-col\"><h3>Run summary:</h3><br/><table class=\"wandb\"><tr><td>max_rmsd</td><td>5.62811</td></tr><tr><td>mean_rmsd</td><td>2.84949</td></tr><tr><td>median_rmsd</td><td>3.75448</td></tr><tr><td>min_rmsd</td><td>0.30941</td></tr><tr><td>std_rmsd</td><td>1.91764</td></tr></table><br/></div></div>"
      ],
      "text/plain": [
       "<IPython.core.display.HTML object>"
      ]
     },
     "metadata": {},
     "output_type": "display_data"
    },
    {
     "data": {
      "text/html": [
       " View run <strong style=\"color:#cdcd00\">dandy-sun-49</strong> at: <a href='https://wandb.ai/radiostars/DFold/runs/v1kwnyl8' target=\"_blank\">https://wandb.ai/radiostars/DFold/runs/v1kwnyl8</a><br/> View project at: <a href='https://wandb.ai/radiostars/DFold' target=\"_blank\">https://wandb.ai/radiostars/DFold</a><br/>Synced 5 W&B file(s), 48 media file(s), 1 artifact file(s) and 0 other file(s)"
      ],
      "text/plain": [
       "<IPython.core.display.HTML object>"
      ]
     },
     "metadata": {},
     "output_type": "display_data"
    },
    {
     "data": {
      "text/html": [
       "Find logs at: <code>.\\wandb\\run-20241213_111044-v1kwnyl8\\logs</code>"
      ],
      "text/plain": [
       "<IPython.core.display.HTML object>"
      ]
     },
     "metadata": {},
     "output_type": "display_data"
    },
    {
     "data": {
      "text/html": [
       "The new W&B backend becomes opt-out in version 0.18.0; try it out with `wandb.require(\"core\")`! See https://wandb.me/wandb-core for more information."
      ],
      "text/plain": [
       "<IPython.core.display.HTML object>"
      ]
     },
     "metadata": {},
     "output_type": "display_data"
    }
   ],
   "source": [
    "mask_percantage = 0.1\n",
    "wandb.init(project=\"DFold\", config={\"mask_percantage\": mask_percantage})\n",
    "cache_path = 'protein_chains.pkl'\n",
    "protein_chains = load_protein_chains(cache_path)\n",
    "rmsd_results = []\n",
    "ids = df['id'].to_list()\n",
    "all_sequence_embeddings = []\n",
    "all_structure_embeddings = []\n",
    "labels = []\n",
    "number_of_runs = 1\n",
    "for protein_chain,id in zip(protein_chains, ids):\n",
    "    print(\"id\", id)\n",
    "    #print(\"Protein sequence length: {}\".format(len(protein_chain)))\n",
    "    #print(\"Sequence: {}\".format(protein_chain.sequence))\n",
    "\n",
    "    # View loaded protein chain\n",
    "    #print(\"Loaded protein:\")\n",
    "    view_protein_chain(protein_chain,id)\n",
    "\n",
    "    masked_protein, mask_pos = create_masked_protein_chain(protein_chain, mask_percent=mask_percantage)\n",
    "\n",
    "    # View masked protein\n",
    "    #print(\"Masked protein:\")\n",
    "    pdb_str = protein_chain.to_pdb_string()\n",
    "    view_masked_protein_chain(mask_pos, pdb_str, id)\n",
    "\n",
    "    # get generation configs \n",
    "    sequence_generation_config, structure_prediction_config = getGenerationConfigs(masked_protein)\n",
    "\n",
    "    # add to wandb config\n",
    "    wandb.config.update({\n",
    "        \"sequence_num_steps\": sequence_generation_config.num_steps,\n",
    "        \"sequence_temperature\": sequence_generation_config.temperature,\n",
    "        \"sequence_top_p\": sequence_generation_config.top_p,\n",
    "        \"sequence_schedule\": sequence_generation_config.schedule,\n",
    "        \"structure_num_steps\": structure_prediction_config.num_steps,\n",
    "        \"structure_temperature\": structure_prediction_config.temperature,\n",
    "        \"structure_top_p\": structure_prediction_config.top_p,\n",
    "        \"structure_schedule\": structure_prediction_config.schedule\n",
    "    })\n",
    "\n",
    "    # Use ESM3 to predict protein structure of the masked protein\n",
    "    structure_prediction, sequence_embeddings, structure_embeddings = predict(masked_protein, sequence_generation_config, structure_prediction_config)\n",
    "\n",
    "    labels.extend([id]*sequence_embeddings.shape[0]) # sequence and structure are same len so it doesnt matter which embedding is used\n",
    "    # Convert the structure prediction to a ProteinChain object\n",
    "    structure_prediction_chain = structure_prediction.to_protein_chain()\n",
    "\n",
    "    # Align the generated structure with the original structure using the non-masked sequence\n",
    "    inds = np.arange(0, mask_pos)\n",
    "    aligned_chain = structure_prediction_chain.align(\n",
    "        protein_chain, mobile_inds=inds, target_inds=inds)\n",
    "\n",
    "    # View aligned structures\n",
    "    pdb1 = aligned_chain.to_pdb_string()\n",
    "    pdb2 = protein_chain.to_pdb_string()\n",
    "    view_aligned_structures(pdb1, pdb2, inds, id)\n",
    "\n",
    "    # Calculate RMSD on the masked part\n",
    "    masked_inds = np.arange(mask_pos, len(protein_chain.sequence))\n",
    "\n",
    "    view_side_by_side_structures(pdb1,pdb2, inds, masked_inds, id)\n",
    "    crmsd_masked = aligned_chain.rmsd(protein_chain, mobile_inds=masked_inds, target_inds=masked_inds, only_compute_backbone_rmsd=True)\n",
    "    print(\"RMSD: \", crmsd_masked)\n",
    "\n",
    "    rmsd_results.append(crmsd_masked)\n",
    "\n",
    "    all_sequence_embeddings.append(sequence_embeddings)\n",
    "    all_structure_embeddings.append(structure_embeddings)\n",
    "\n",
    "    del aligned_chain, structure_prediction_chain, protein_chain\n",
    "\n",
    "df['rmsd'] = rmsd_results\n",
    "\n",
    "all_sequence_embeddings = torch.cat(all_sequence_embeddings).detach().cpu().numpy()\n",
    "all_structure_embeddings = torch.cat(all_structure_embeddings).detach().cpu().numpy()\n",
    "wand_logs(df, all_sequence_embeddings, all_structure_embeddings, labels)\n",
    "wandb.finish()\n",
    "\n",
    "df.to_csv('OMBB_data_crmsd.csv', index=False)\n",
    "\n",
    "\n"
   ]
  }
 ],
 "metadata": {
  "accelerator": "GPU",
  "colab": {
   "gpuType": "T4",
   "provenance": []
  },
  "kernelspec": {
   "display_name": "Python 3",
   "language": "python",
   "name": "python3"
  },
  "language_info": {
   "codemirror_mode": {
    "name": "ipython",
    "version": 3
   },
   "file_extension": ".py",
   "mimetype": "text/x-python",
   "name": "python",
   "nbconvert_exporter": "python",
   "pygments_lexer": "ipython3",
   "version": "3.11.5"
  },
  "widgets": {
   "application/vnd.jupyter.widget-state+json": {
    "1632fe4735af42c39d7bf0b36e54f5c7": {
     "model_module": "@jupyter-widgets/controls",
     "model_module_version": "1.5.0",
     "model_name": "ButtonStyleModel",
     "state": {
      "_model_module": "@jupyter-widgets/controls",
      "_model_module_version": "1.5.0",
      "_model_name": "ButtonStyleModel",
      "_view_count": null,
      "_view_module": "@jupyter-widgets/base",
      "_view_module_version": "1.2.0",
      "_view_name": "StyleView",
      "button_color": null,
      "font_weight": ""
     }
    },
    "2a49d460a309436f910f4226ae97135b": {
     "model_module": "@jupyter-widgets/controls",
     "model_module_version": "1.5.0",
     "model_name": "DescriptionStyleModel",
     "state": {
      "_model_module": "@jupyter-widgets/controls",
      "_model_module_version": "1.5.0",
      "_model_name": "DescriptionStyleModel",
      "_view_count": null,
      "_view_module": "@jupyter-widgets/base",
      "_view_module_version": "1.2.0",
      "_view_name": "StyleView",
      "description_width": ""
     }
    },
    "35a563d8861748a6a480e8a3d186b7f8": {
     "model_module": "@jupyter-widgets/base",
     "model_module_version": "1.2.0",
     "model_name": "LayoutModel",
     "state": {
      "_model_module": "@jupyter-widgets/base",
      "_model_module_version": "1.2.0",
      "_model_name": "LayoutModel",
      "_view_count": null,
      "_view_module": "@jupyter-widgets/base",
      "_view_module_version": "1.2.0",
      "_view_name": "LayoutView",
      "align_content": null,
      "align_items": null,
      "align_self": null,
      "border": null,
      "bottom": null,
      "display": null,
      "flex": null,
      "flex_flow": null,
      "grid_area": null,
      "grid_auto_columns": null,
      "grid_auto_flow": null,
      "grid_auto_rows": null,
      "grid_column": null,
      "grid_gap": null,
      "grid_row": null,
      "grid_template_areas": null,
      "grid_template_columns": null,
      "grid_template_rows": null,
      "height": null,
      "justify_content": null,
      "justify_items": null,
      "left": null,
      "margin": null,
      "max_height": null,
      "max_width": null,
      "min_height": null,
      "min_width": null,
      "object_fit": null,
      "object_position": null,
      "order": null,
      "overflow": null,
      "overflow_x": null,
      "overflow_y": null,
      "padding": null,
      "right": null,
      "top": null,
      "visibility": null,
      "width": null
     }
    },
    "3996e301af594bd5b8cbd2202c305b5d": {
     "model_module": "@jupyter-widgets/controls",
     "model_module_version": "1.5.0",
     "model_name": "ButtonModel",
     "state": {
      "_dom_classes": [],
      "_model_module": "@jupyter-widgets/controls",
      "_model_module_version": "1.5.0",
      "_model_name": "ButtonModel",
      "_view_count": null,
      "_view_module": "@jupyter-widgets/controls",
      "_view_module_version": "1.5.0",
      "_view_name": "ButtonView",
      "button_style": "",
      "description": "Login",
      "disabled": false,
      "icon": "",
      "layout": "IPY_MODEL_864101d86a8f4120b540e2c01b09ebc2",
      "style": "IPY_MODEL_1632fe4735af42c39d7bf0b36e54f5c7",
      "tooltip": ""
     }
    },
    "446dbb182efa4c1182021c90fe5b5253": {
     "model_module": "@jupyter-widgets/base",
     "model_module_version": "1.2.0",
     "model_name": "LayoutModel",
     "state": {
      "_model_module": "@jupyter-widgets/base",
      "_model_module_version": "1.2.0",
      "_model_name": "LayoutModel",
      "_view_count": null,
      "_view_module": "@jupyter-widgets/base",
      "_view_module_version": "1.2.0",
      "_view_name": "LayoutView",
      "align_content": null,
      "align_items": null,
      "align_self": null,
      "border": null,
      "bottom": null,
      "display": null,
      "flex": null,
      "flex_flow": null,
      "grid_area": null,
      "grid_auto_columns": null,
      "grid_auto_flow": null,
      "grid_auto_rows": null,
      "grid_column": null,
      "grid_gap": null,
      "grid_row": null,
      "grid_template_areas": null,
      "grid_template_columns": null,
      "grid_template_rows": null,
      "height": null,
      "justify_content": null,
      "justify_items": null,
      "left": null,
      "margin": null,
      "max_height": null,
      "max_width": null,
      "min_height": null,
      "min_width": null,
      "object_fit": null,
      "object_position": null,
      "order": null,
      "overflow": null,
      "overflow_x": null,
      "overflow_y": null,
      "padding": null,
      "right": null,
      "top": null,
      "visibility": null,
      "width": null
     }
    },
    "496a6e8328ef40a2b2f59e27ce0043b3": {
     "model_module": "@jupyter-widgets/base",
     "model_module_version": "1.2.0",
     "model_name": "LayoutModel",
     "state": {
      "_model_module": "@jupyter-widgets/base",
      "_model_module_version": "1.2.0",
      "_model_name": "LayoutModel",
      "_view_count": null,
      "_view_module": "@jupyter-widgets/base",
      "_view_module_version": "1.2.0",
      "_view_name": "LayoutView",
      "align_content": null,
      "align_items": null,
      "align_self": null,
      "border": null,
      "bottom": null,
      "display": null,
      "flex": null,
      "flex_flow": null,
      "grid_area": null,
      "grid_auto_columns": null,
      "grid_auto_flow": null,
      "grid_auto_rows": null,
      "grid_column": null,
      "grid_gap": null,
      "grid_row": null,
      "grid_template_areas": null,
      "grid_template_columns": null,
      "grid_template_rows": null,
      "height": null,
      "justify_content": null,
      "justify_items": null,
      "left": null,
      "margin": null,
      "max_height": null,
      "max_width": null,
      "min_height": null,
      "min_width": null,
      "object_fit": null,
      "object_position": null,
      "order": null,
      "overflow": null,
      "overflow_x": null,
      "overflow_y": null,
      "padding": null,
      "right": null,
      "top": null,
      "visibility": null,
      "width": null
     }
    },
    "6898aad60f7743ae9ff642ef64089cd8": {
     "model_module": "@jupyter-widgets/base",
     "model_module_version": "1.2.0",
     "model_name": "LayoutModel",
     "state": {
      "_model_module": "@jupyter-widgets/base",
      "_model_module_version": "1.2.0",
      "_model_name": "LayoutModel",
      "_view_count": null,
      "_view_module": "@jupyter-widgets/base",
      "_view_module_version": "1.2.0",
      "_view_name": "LayoutView",
      "align_content": null,
      "align_items": null,
      "align_self": null,
      "border": null,
      "bottom": null,
      "display": null,
      "flex": null,
      "flex_flow": null,
      "grid_area": null,
      "grid_auto_columns": null,
      "grid_auto_flow": null,
      "grid_auto_rows": null,
      "grid_column": null,
      "grid_gap": null,
      "grid_row": null,
      "grid_template_areas": null,
      "grid_template_columns": null,
      "grid_template_rows": null,
      "height": null,
      "justify_content": null,
      "justify_items": null,
      "left": null,
      "margin": null,
      "max_height": null,
      "max_width": null,
      "min_height": null,
      "min_width": null,
      "object_fit": null,
      "object_position": null,
      "order": null,
      "overflow": null,
      "overflow_x": null,
      "overflow_y": null,
      "padding": null,
      "right": null,
      "top": null,
      "visibility": null,
      "width": null
     }
    },
    "7029e2cbd73f4c94a64dc62cd2caa0c4": {
     "model_module": "@jupyter-widgets/controls",
     "model_module_version": "1.5.0",
     "model_name": "DescriptionStyleModel",
     "state": {
      "_model_module": "@jupyter-widgets/controls",
      "_model_module_version": "1.5.0",
      "_model_name": "DescriptionStyleModel",
      "_view_count": null,
      "_view_module": "@jupyter-widgets/base",
      "_view_module_version": "1.2.0",
      "_view_name": "StyleView",
      "description_width": ""
     }
    },
    "70b1c81769f54978b25af68bb868ef3f": {
     "model_module": "@jupyter-widgets/controls",
     "model_module_version": "1.5.0",
     "model_name": "CheckboxModel",
     "state": {
      "_dom_classes": [],
      "_model_module": "@jupyter-widgets/controls",
      "_model_module_version": "1.5.0",
      "_model_name": "CheckboxModel",
      "_view_count": null,
      "_view_module": "@jupyter-widgets/controls",
      "_view_module_version": "1.5.0",
      "_view_name": "CheckboxView",
      "description": "Add token as git credential?",
      "description_tooltip": null,
      "disabled": false,
      "indent": true,
      "layout": "IPY_MODEL_35a563d8861748a6a480e8a3d186b7f8",
      "style": "IPY_MODEL_89ac0bce1f9e4c1393013bd596afa244",
      "value": true
     }
    },
    "85ed320755464471bdf50cee6420939f": {
     "model_module": "@jupyter-widgets/controls",
     "model_module_version": "1.5.0",
     "model_name": "LabelModel",
     "state": {
      "_dom_classes": [],
      "_model_module": "@jupyter-widgets/controls",
      "_model_module_version": "1.5.0",
      "_model_name": "LabelModel",
      "_view_count": null,
      "_view_module": "@jupyter-widgets/controls",
      "_view_module_version": "1.5.0",
      "_view_name": "LabelView",
      "description": "",
      "description_tooltip": null,
      "layout": "IPY_MODEL_496a6e8328ef40a2b2f59e27ce0043b3",
      "placeholder": "​",
      "style": "IPY_MODEL_b49b647b141f4b88b7e6b4222921b521",
      "value": "Connecting..."
     }
    },
    "864101d86a8f4120b540e2c01b09ebc2": {
     "model_module": "@jupyter-widgets/base",
     "model_module_version": "1.2.0",
     "model_name": "LayoutModel",
     "state": {
      "_model_module": "@jupyter-widgets/base",
      "_model_module_version": "1.2.0",
      "_model_name": "LayoutModel",
      "_view_count": null,
      "_view_module": "@jupyter-widgets/base",
      "_view_module_version": "1.2.0",
      "_view_name": "LayoutView",
      "align_content": null,
      "align_items": null,
      "align_self": null,
      "border": null,
      "bottom": null,
      "display": null,
      "flex": null,
      "flex_flow": null,
      "grid_area": null,
      "grid_auto_columns": null,
      "grid_auto_flow": null,
      "grid_auto_rows": null,
      "grid_column": null,
      "grid_gap": null,
      "grid_row": null,
      "grid_template_areas": null,
      "grid_template_columns": null,
      "grid_template_rows": null,
      "height": null,
      "justify_content": null,
      "justify_items": null,
      "left": null,
      "margin": null,
      "max_height": null,
      "max_width": null,
      "min_height": null,
      "min_width": null,
      "object_fit": null,
      "object_position": null,
      "order": null,
      "overflow": null,
      "overflow_x": null,
      "overflow_y": null,
      "padding": null,
      "right": null,
      "top": null,
      "visibility": null,
      "width": null
     }
    },
    "89ac0bce1f9e4c1393013bd596afa244": {
     "model_module": "@jupyter-widgets/controls",
     "model_module_version": "1.5.0",
     "model_name": "DescriptionStyleModel",
     "state": {
      "_model_module": "@jupyter-widgets/controls",
      "_model_module_version": "1.5.0",
      "_model_name": "DescriptionStyleModel",
      "_view_count": null,
      "_view_module": "@jupyter-widgets/base",
      "_view_module_version": "1.2.0",
      "_view_name": "StyleView",
      "description_width": ""
     }
    },
    "9c23a838b7394a85b4f2cebabde887bb": {
     "model_module": "@jupyter-widgets/controls",
     "model_module_version": "1.5.0",
     "model_name": "HTMLModel",
     "state": {
      "_dom_classes": [],
      "_model_module": "@jupyter-widgets/controls",
      "_model_module_version": "1.5.0",
      "_model_name": "HTMLModel",
      "_view_count": null,
      "_view_module": "@jupyter-widgets/controls",
      "_view_module_version": "1.5.0",
      "_view_name": "HTMLView",
      "description": "",
      "description_tooltip": null,
      "layout": "IPY_MODEL_446dbb182efa4c1182021c90fe5b5253",
      "placeholder": "​",
      "style": "IPY_MODEL_2a49d460a309436f910f4226ae97135b",
      "value": "<center> <img\nsrc=https://huggingface.co/front/assets/huggingface_logo-noborder.svg\nalt='Hugging Face'> <br> Copy a token from <a\nhref=\"https://huggingface.co/settings/tokens\" target=\"_blank\">your Hugging Face\ntokens page</a> and paste it below. <br> Immediately click login after copying\nyour token or it might be stored in plain text in this notebook file. </center>"
     }
    },
    "a16e9a9f75404e64b2774ca53ba4015a": {
     "model_module": "@jupyter-widgets/controls",
     "model_module_version": "1.5.0",
     "model_name": "DescriptionStyleModel",
     "state": {
      "_model_module": "@jupyter-widgets/controls",
      "_model_module_version": "1.5.0",
      "_model_name": "DescriptionStyleModel",
      "_view_count": null,
      "_view_module": "@jupyter-widgets/base",
      "_view_module_version": "1.2.0",
      "_view_name": "StyleView",
      "description_width": ""
     }
    },
    "a8d69f10bc3e4be4970b5f734d349435": {
     "model_module": "@jupyter-widgets/controls",
     "model_module_version": "1.5.0",
     "model_name": "PasswordModel",
     "state": {
      "_dom_classes": [],
      "_model_module": "@jupyter-widgets/controls",
      "_model_module_version": "1.5.0",
      "_model_name": "PasswordModel",
      "_view_count": null,
      "_view_module": "@jupyter-widgets/controls",
      "_view_module_version": "1.5.0",
      "_view_name": "PasswordView",
      "continuous_update": true,
      "description": "Token:",
      "description_tooltip": null,
      "disabled": false,
      "layout": "IPY_MODEL_e4763313345f4886803fd368a71fd367",
      "placeholder": "​",
      "style": "IPY_MODEL_7029e2cbd73f4c94a64dc62cd2caa0c4",
      "value": ""
     }
    },
    "b49b647b141f4b88b7e6b4222921b521": {
     "model_module": "@jupyter-widgets/controls",
     "model_module_version": "1.5.0",
     "model_name": "DescriptionStyleModel",
     "state": {
      "_model_module": "@jupyter-widgets/controls",
      "_model_module_version": "1.5.0",
      "_model_name": "DescriptionStyleModel",
      "_view_count": null,
      "_view_module": "@jupyter-widgets/base",
      "_view_module_version": "1.2.0",
      "_view_name": "StyleView",
      "description_width": ""
     }
    },
    "b501805698a043f68db5d11fa0b517f1": {
     "model_module": "@jupyter-widgets/controls",
     "model_module_version": "1.5.0",
     "model_name": "VBoxModel",
     "state": {
      "_dom_classes": [],
      "_model_module": "@jupyter-widgets/controls",
      "_model_module_version": "1.5.0",
      "_model_name": "VBoxModel",
      "_view_count": null,
      "_view_module": "@jupyter-widgets/controls",
      "_view_module_version": "1.5.0",
      "_view_name": "VBoxView",
      "box_style": "",
      "children": [],
      "layout": "IPY_MODEL_f43613340e66432cbb22c6e81533c1af"
     }
    },
    "e4763313345f4886803fd368a71fd367": {
     "model_module": "@jupyter-widgets/base",
     "model_module_version": "1.2.0",
     "model_name": "LayoutModel",
     "state": {
      "_model_module": "@jupyter-widgets/base",
      "_model_module_version": "1.2.0",
      "_model_name": "LayoutModel",
      "_view_count": null,
      "_view_module": "@jupyter-widgets/base",
      "_view_module_version": "1.2.0",
      "_view_name": "LayoutView",
      "align_content": null,
      "align_items": null,
      "align_self": null,
      "border": null,
      "bottom": null,
      "display": null,
      "flex": null,
      "flex_flow": null,
      "grid_area": null,
      "grid_auto_columns": null,
      "grid_auto_flow": null,
      "grid_auto_rows": null,
      "grid_column": null,
      "grid_gap": null,
      "grid_row": null,
      "grid_template_areas": null,
      "grid_template_columns": null,
      "grid_template_rows": null,
      "height": null,
      "justify_content": null,
      "justify_items": null,
      "left": null,
      "margin": null,
      "max_height": null,
      "max_width": null,
      "min_height": null,
      "min_width": null,
      "object_fit": null,
      "object_position": null,
      "order": null,
      "overflow": null,
      "overflow_x": null,
      "overflow_y": null,
      "padding": null,
      "right": null,
      "top": null,
      "visibility": null,
      "width": null
     }
    },
    "f43613340e66432cbb22c6e81533c1af": {
     "model_module": "@jupyter-widgets/base",
     "model_module_version": "1.2.0",
     "model_name": "LayoutModel",
     "state": {
      "_model_module": "@jupyter-widgets/base",
      "_model_module_version": "1.2.0",
      "_model_name": "LayoutModel",
      "_view_count": null,
      "_view_module": "@jupyter-widgets/base",
      "_view_module_version": "1.2.0",
      "_view_name": "LayoutView",
      "align_content": null,
      "align_items": "center",
      "align_self": null,
      "border": null,
      "bottom": null,
      "display": "flex",
      "flex": null,
      "flex_flow": "column",
      "grid_area": null,
      "grid_auto_columns": null,
      "grid_auto_flow": null,
      "grid_auto_rows": null,
      "grid_column": null,
      "grid_gap": null,
      "grid_row": null,
      "grid_template_areas": null,
      "grid_template_columns": null,
      "grid_template_rows": null,
      "height": null,
      "justify_content": null,
      "justify_items": null,
      "left": null,
      "margin": null,
      "max_height": null,
      "max_width": null,
      "min_height": null,
      "min_width": null,
      "object_fit": null,
      "object_position": null,
      "order": null,
      "overflow": null,
      "overflow_x": null,
      "overflow_y": null,
      "padding": null,
      "right": null,
      "top": null,
      "visibility": null,
      "width": "50%"
     }
    },
    "fc0ba626039341a8946e91770fb227ee": {
     "model_module": "@jupyter-widgets/controls",
     "model_module_version": "1.5.0",
     "model_name": "HTMLModel",
     "state": {
      "_dom_classes": [],
      "_model_module": "@jupyter-widgets/controls",
      "_model_module_version": "1.5.0",
      "_model_name": "HTMLModel",
      "_view_count": null,
      "_view_module": "@jupyter-widgets/controls",
      "_view_module_version": "1.5.0",
      "_view_name": "HTMLView",
      "description": "",
      "description_tooltip": null,
      "layout": "IPY_MODEL_6898aad60f7743ae9ff642ef64089cd8",
      "placeholder": "​",
      "style": "IPY_MODEL_a16e9a9f75404e64b2774ca53ba4015a",
      "value": "\n<b>Pro Tip:</b> If you don't already have one, you can create a dedicated\n'notebooks' token with 'write' access, that you can then easily reuse for all\nnotebooks. </center>"
     }
    }
   }
  }
 },
 "nbformat": 4,
 "nbformat_minor": 0
}
